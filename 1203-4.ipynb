{
 "cells": [
  {
   "cell_type": "code",
   "execution_count": 2,
   "metadata": {},
   "outputs": [
    {
     "name": "stdout",
     "output_type": "stream",
     "text": [
      "請以公尺輸入身高: 1.7\n",
      "請以公斤輸入體重: 65\n",
      "正常!BMI是:22.49\n"
     ]
    }
   ],
   "source": [
    "height = float(input(\"請以公尺輸入身高: \"))\n",
    "weight = float(input(\"請以公斤輸入體重: \"))\n",
    "bmi = round(weight / (height * height), 2)\n",
    "if bmi < 18.5:\n",
    "    print('過輕!BMI是:{}'.format(bmi))\n",
    "elif 24 <= bmi:\n",
    "    print('過重!BMI是:{}'.format(bmi))\n",
    "else:\n",
    "    print('正常!BMI是:{}'.format(bmi))"
   ]
  },
  {
   "cell_type": "code",
   "execution_count": null,
   "metadata": {},
   "outputs": [],
   "source": []
  }
 ],
 "metadata": {
  "kernelspec": {
   "display_name": "Python 3",
   "language": "python",
   "name": "python3"
  },
  "language_info": {
   "codemirror_mode": {
    "name": "ipython",
    "version": 3
   },
   "file_extension": ".py",
   "mimetype": "text/x-python",
   "name": "python",
   "nbconvert_exporter": "python",
   "pygments_lexer": "ipython3",
   "version": "3.7.3"
  }
 },
 "nbformat": 4,
 "nbformat_minor": 2
}
