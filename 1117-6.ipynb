{
 "cells": [
  {
   "cell_type": "markdown",
   "metadata": {},
   "source": [
    "### 作業一"
   ]
  },
  {
   "cell_type": "code",
   "execution_count": 5,
   "metadata": {},
   "outputs": [],
   "source": [
    "%matplotlib inline\n",
    "import numpy as np\n",
    "import matplotlib.pyplot as plt\n",
    "import pandas as pd\n",
    "from numpy.random import randint"
   ]
  },
  {
   "cell_type": "code",
   "execution_count": 6,
   "metadata": {},
   "outputs": [
    {
     "name": "stdout",
     "output_type": "stream",
     "text": [
      "猜數字\n",
      "輸入1~10050\n",
      "down\n",
      "輸入1~10025\n",
      "up\n",
      "輸入1~10037\n",
      "up\n",
      "輸入1~10042\n",
      "down\n",
      "輸入1~10040\n",
      "down\n",
      "輸入1~10039\n",
      "恭喜\n"
     ]
    }
   ],
   "source": [
    "print('猜數字')\n",
    "a=randint(1,101)\n",
    "while a!=0:\n",
    "    b=int(input('輸入1~100'))\n",
    "    if a>b:\n",
    "        print('up')\n",
    "    if a<b:\n",
    "        print('down')\n",
    "    if a==b:\n",
    "        print('恭喜')\n",
    "        break"
   ]
  },
  {
   "cell_type": "markdown",
   "metadata": {},
   "source": [
    "### 作業二"
   ]
  },
  {
   "cell_type": "code",
   "execution_count": 7,
   "metadata": {},
   "outputs": [],
   "source": [
    "%matplotlib inline\n",
    "import numpy as np\n",
    "import matplotlib.pyplot as plt\n",
    "import pandas as pd"
   ]
  },
  {
   "cell_type": "code",
   "execution_count": 8,
   "metadata": {},
   "outputs": [
    {
     "name": "stdout",
     "output_type": "stream",
     "text": [
      "請輸入你今天已經喝了多少水(ml)>> 1500\n",
      "請輸入你的體重(kg)>> 65\n",
      "你每天應該喝1950.0ml的水\n",
      "你今天應該還要再喝大約450ml的水\n"
     ]
    }
   ],
   "source": [
    "h = input(\"請輸入你今天已經喝了多少水(ml)>> \")\n",
    "w = input(\"請輸入你的體重(kg)>> \")\n",
    "\n",
    "s = float(w)*30\n",
    "n = int(float(s)-float(h))\n",
    "\n",
    "print(\"你每天應該喝{}ml的水\".format(s))\n",
    "print(\"你今天應該還要再喝大約{}ml的水\".format(n))"
   ]
  },
  {
   "cell_type": "markdown",
   "metadata": {},
   "source": [
    "### 作業三"
   ]
  },
  {
   "cell_type": "code",
   "execution_count": 9,
   "metadata": {},
   "outputs": [
    {
     "name": "stdout",
     "output_type": "stream",
     "text": [
      "攝氏溫度轉換凱氏溫度\n",
      "50\n",
      "323.0\n"
     ]
    }
   ],
   "source": [
    "print(\"攝氏溫度轉換凱氏溫度\")\n",
    "spam=input(\"\")\n",
    "print(float(spam)+273)"
   ]
  },
  {
   "cell_type": "markdown",
   "metadata": {},
   "source": [
    "### 作業四\n"
   ]
  },
  {
   "cell_type": "code",
   "execution_count": 10,
   "metadata": {},
   "outputs": [
    {
     "name": "stdout",
     "output_type": "stream",
     "text": [
      "夏天，每上升100公尺氣溫下降1度 ; 冬天，每上升100公尺氣溫下降0.6度\n",
      "請輸入山的高度：1500\n",
      "請輸入現在的溫度：20\n",
      "請輸入現在的季節是夏天/冬天：夏天\n",
      "5.0\n"
     ]
    }
   ],
   "source": [
    "print('夏天，每上升100公尺氣溫下降1度 ; 冬天，每上升100公尺氣溫下降0.6度')\n",
    "\n",
    "height=input('請輸入山的高度：')\n",
    "height = float(height)\n",
    "temperature = input('請輸入現在的溫度：')\n",
    "temperature = float(temperature)\n",
    "weather=input('請輸入現在的季節是夏天/冬天：')\n",
    "\n",
    "if weather == '夏天':\n",
    "    print(temperature-(height/100)*1)\n",
    "    \n",
    "if weather == '冬天':\n",
    "    print(temperature-(height/100)*0.6)"
   ]
  },
  {
   "cell_type": "markdown",
   "metadata": {},
   "source": [
    "### 作業五\n"
   ]
  },
  {
   "cell_type": "code",
   "execution_count": 11,
   "metadata": {},
   "outputs": [],
   "source": [
    "def check_leap_year(year):\n",
    "    if (year % 400 == 0) or (year % 100 !=0 and year % 4 == 0):\n",
    "        print(\"閏年\")\n",
    "    else:\n",
    "        print(\"平年\")"
   ]
  },
  {
   "cell_type": "code",
   "execution_count": 12,
   "metadata": {},
   "outputs": [
    {
     "name": "stdout",
     "output_type": "stream",
     "text": [
      "平閏年計算\n",
      "2020\n",
      "閏年\n"
     ]
    }
   ],
   "source": [
    "print(\"平閏年計算\")\n",
    "year = int(input())\n",
    "check_leap_year(year)"
   ]
  },
  {
   "cell_type": "markdown",
   "metadata": {},
   "source": [
    "### 作業"
   ]
  }
 ],
 "metadata": {
  "kernelspec": {
   "display_name": "Python 3",
   "language": "python",
   "name": "python3"
  },
  "language_info": {
   "codemirror_mode": {
    "name": "ipython",
    "version": 3
   },
   "file_extension": ".py",
   "mimetype": "text/x-python",
   "name": "python",
   "nbconvert_exporter": "python",
   "pygments_lexer": "ipython3",
   "version": "3.7.3"
  }
 },
 "nbformat": 4,
 "nbformat_minor": 2
}
