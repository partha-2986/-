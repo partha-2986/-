{
  "nbformat": 4,
  "nbformat_minor": 0,
  "metadata": {
    "colab": {
      "name": "Untitled3.ipynb",
      "provenance": []
    },
    "kernelspec": {
      "name": "python3",
      "display_name": "Python 3"
    },
    "widgets": {
      "application/vnd.jupyter.widget-state+json": {
        "3772096ce26546cab7a737bdee5cd49e": {
          "model_module": "@jupyter-widgets/controls",
          "model_name": "VBoxModel",
          "state": {
            "_view_name": "VBoxView",
            "_dom_classes": [
              "widget-interact"
            ],
            "_model_name": "VBoxModel",
            "_view_module": "@jupyter-widgets/controls",
            "_model_module_version": "1.5.0",
            "_view_count": null,
            "_view_module_version": "1.5.0",
            "box_style": "",
            "layout": "IPY_MODEL_64a0669c09da46ce82cef757e38ead3c",
            "_model_module": "@jupyter-widgets/controls",
            "children": [
              "IPY_MODEL_7e644e85d0a0432daaa7fba084cc2259",
              "IPY_MODEL_f90c1b9eb7ed462ba44b9059ee2adb33",
              "IPY_MODEL_5410179cfa584596b5cf5fb13d4fe020"
            ]
          }
        },
        "64a0669c09da46ce82cef757e38ead3c": {
          "model_module": "@jupyter-widgets/base",
          "model_name": "LayoutModel",
          "state": {
            "_view_name": "LayoutView",
            "grid_template_rows": null,
            "right": null,
            "justify_content": null,
            "_view_module": "@jupyter-widgets/base",
            "overflow": null,
            "_model_module_version": "1.2.0",
            "_view_count": null,
            "flex_flow": null,
            "width": null,
            "min_width": null,
            "border": null,
            "align_items": null,
            "bottom": null,
            "_model_module": "@jupyter-widgets/base",
            "top": null,
            "grid_column": null,
            "overflow_y": null,
            "overflow_x": null,
            "grid_auto_flow": null,
            "grid_area": null,
            "grid_template_columns": null,
            "flex": null,
            "_model_name": "LayoutModel",
            "justify_items": null,
            "grid_row": null,
            "max_height": null,
            "align_content": null,
            "visibility": null,
            "align_self": null,
            "height": null,
            "min_height": null,
            "padding": null,
            "grid_auto_rows": null,
            "grid_gap": null,
            "max_width": null,
            "order": null,
            "_view_module_version": "1.2.0",
            "grid_template_areas": null,
            "object_position": null,
            "object_fit": null,
            "grid_auto_columns": null,
            "margin": null,
            "display": null,
            "left": null
          }
        },
        "7e644e85d0a0432daaa7fba084cc2259": {
          "model_module": "@jupyter-widgets/controls",
          "model_name": "IntSliderModel",
          "state": {
            "_view_name": "IntSliderView",
            "style": "IPY_MODEL_149c9c1156dd4719a9ffdcffcfc929bc",
            "_dom_classes": [],
            "description": "n",
            "step": 1,
            "_model_name": "IntSliderModel",
            "orientation": "horizontal",
            "max": 9999,
            "_view_module": "@jupyter-widgets/controls",
            "_model_module_version": "1.5.0",
            "value": 4999,
            "_view_count": null,
            "disabled": false,
            "_view_module_version": "1.5.0",
            "min": 0,
            "continuous_update": true,
            "readout_format": "d",
            "description_tooltip": null,
            "readout": true,
            "_model_module": "@jupyter-widgets/controls",
            "layout": "IPY_MODEL_1a0a5b13cb9b40ef8dd21fb2e2c3564f"
          }
        },
        "f90c1b9eb7ed462ba44b9059ee2adb33": {
          "model_module": "@jupyter-widgets/controls",
          "model_name": "ButtonModel",
          "state": {
            "_view_name": "ButtonView",
            "style": "IPY_MODEL_7ec206c9714b4103bdc882ff38d0359c",
            "_dom_classes": [],
            "description": "Run Interact",
            "_model_name": "ButtonModel",
            "button_style": "",
            "_view_module": "@jupyter-widgets/controls",
            "_model_module_version": "1.5.0",
            "tooltip": "",
            "_view_count": null,
            "disabled": false,
            "_view_module_version": "1.5.0",
            "layout": "IPY_MODEL_fdaa78f1a6b34131b311d5d7028c06f8",
            "_model_module": "@jupyter-widgets/controls",
            "icon": ""
          }
        },
        "5410179cfa584596b5cf5fb13d4fe020": {
          "model_module": "@jupyter-widgets/output",
          "model_name": "OutputModel",
          "state": {
            "_view_name": "OutputView",
            "msg_id": "",
            "_dom_classes": [],
            "_model_name": "OutputModel",
            "outputs": [
              {
                "output_type": "stream",
                "metadata": {
                  "tags": []
                },
                "text": "我的 CNN 預測是 7\n",
                "stream": "stdout"
              },
              {
                "output_type": "display_data",
                "metadata": {
                  "tags": [],
                  "needs_background": "light"
                },
                "image/png": "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\n",
                "text/plain": "<Figure size 432x288 with 1 Axes>"
              }
            ],
            "_view_module": "@jupyter-widgets/output",
            "_model_module_version": "1.0.0",
            "_view_count": null,
            "_view_module_version": "1.0.0",
            "layout": "IPY_MODEL_298066607ce64daba9fa398433610b82",
            "_model_module": "@jupyter-widgets/output"
          }
        },
        "149c9c1156dd4719a9ffdcffcfc929bc": {
          "model_module": "@jupyter-widgets/controls",
          "model_name": "SliderStyleModel",
          "state": {
            "_view_name": "StyleView",
            "handle_color": null,
            "_model_name": "SliderStyleModel",
            "description_width": "",
            "_view_module": "@jupyter-widgets/base",
            "_model_module_version": "1.5.0",
            "_view_count": null,
            "_view_module_version": "1.2.0",
            "_model_module": "@jupyter-widgets/controls"
          }
        },
        "1a0a5b13cb9b40ef8dd21fb2e2c3564f": {
          "model_module": "@jupyter-widgets/base",
          "model_name": "LayoutModel",
          "state": {
            "_view_name": "LayoutView",
            "grid_template_rows": null,
            "right": null,
            "justify_content": null,
            "_view_module": "@jupyter-widgets/base",
            "overflow": null,
            "_model_module_version": "1.2.0",
            "_view_count": null,
            "flex_flow": null,
            "width": null,
            "min_width": null,
            "border": null,
            "align_items": null,
            "bottom": null,
            "_model_module": "@jupyter-widgets/base",
            "top": null,
            "grid_column": null,
            "overflow_y": null,
            "overflow_x": null,
            "grid_auto_flow": null,
            "grid_area": null,
            "grid_template_columns": null,
            "flex": null,
            "_model_name": "LayoutModel",
            "justify_items": null,
            "grid_row": null,
            "max_height": null,
            "align_content": null,
            "visibility": null,
            "align_self": null,
            "height": null,
            "min_height": null,
            "padding": null,
            "grid_auto_rows": null,
            "grid_gap": null,
            "max_width": null,
            "order": null,
            "_view_module_version": "1.2.0",
            "grid_template_areas": null,
            "object_position": null,
            "object_fit": null,
            "grid_auto_columns": null,
            "margin": null,
            "display": null,
            "left": null
          }
        },
        "7ec206c9714b4103bdc882ff38d0359c": {
          "model_module": "@jupyter-widgets/controls",
          "model_name": "ButtonStyleModel",
          "state": {
            "_view_name": "StyleView",
            "_model_name": "ButtonStyleModel",
            "_view_module": "@jupyter-widgets/base",
            "_model_module_version": "1.5.0",
            "_view_count": null,
            "button_color": null,
            "font_weight": "",
            "_view_module_version": "1.2.0",
            "_model_module": "@jupyter-widgets/controls"
          }
        },
        "fdaa78f1a6b34131b311d5d7028c06f8": {
          "model_module": "@jupyter-widgets/base",
          "model_name": "LayoutModel",
          "state": {
            "_view_name": "LayoutView",
            "grid_template_rows": null,
            "right": null,
            "justify_content": null,
            "_view_module": "@jupyter-widgets/base",
            "overflow": null,
            "_model_module_version": "1.2.0",
            "_view_count": null,
            "flex_flow": null,
            "width": null,
            "min_width": null,
            "border": null,
            "align_items": null,
            "bottom": null,
            "_model_module": "@jupyter-widgets/base",
            "top": null,
            "grid_column": null,
            "overflow_y": null,
            "overflow_x": null,
            "grid_auto_flow": null,
            "grid_area": null,
            "grid_template_columns": null,
            "flex": null,
            "_model_name": "LayoutModel",
            "justify_items": null,
            "grid_row": null,
            "max_height": null,
            "align_content": null,
            "visibility": null,
            "align_self": null,
            "height": null,
            "min_height": null,
            "padding": null,
            "grid_auto_rows": null,
            "grid_gap": null,
            "max_width": null,
            "order": null,
            "_view_module_version": "1.2.0",
            "grid_template_areas": null,
            "object_position": null,
            "object_fit": null,
            "grid_auto_columns": null,
            "margin": null,
            "display": null,
            "left": null
          }
        },
        "298066607ce64daba9fa398433610b82": {
          "model_module": "@jupyter-widgets/base",
          "model_name": "LayoutModel",
          "state": {
            "_view_name": "LayoutView",
            "grid_template_rows": null,
            "right": null,
            "justify_content": null,
            "_view_module": "@jupyter-widgets/base",
            "overflow": null,
            "_model_module_version": "1.2.0",
            "_view_count": null,
            "flex_flow": null,
            "width": null,
            "min_width": null,
            "border": null,
            "align_items": null,
            "bottom": null,
            "_model_module": "@jupyter-widgets/base",
            "top": null,
            "grid_column": null,
            "overflow_y": null,
            "overflow_x": null,
            "grid_auto_flow": null,
            "grid_area": null,
            "grid_template_columns": null,
            "flex": null,
            "_model_name": "LayoutModel",
            "justify_items": null,
            "grid_row": null,
            "max_height": null,
            "align_content": null,
            "visibility": null,
            "align_self": null,
            "height": null,
            "min_height": null,
            "padding": null,
            "grid_auto_rows": null,
            "grid_gap": null,
            "max_width": null,
            "order": null,
            "_view_module_version": "1.2.0",
            "grid_template_areas": null,
            "object_position": null,
            "object_fit": null,
            "grid_auto_columns": null,
            "margin": null,
            "display": null,
            "left": null
          }
        }
      }
    }
  },
  "cells": [
    {
      "cell_type": "code",
      "metadata": {
        "id": "GyX6LB5Ggky-",
        "colab_type": "code",
        "colab": {}
      },
      "source": [
        "%matplotlib inline\n",
        "import numpy as np\n",
        "import matplotlib.pyplot as plt\n",
        "import pandas as pd"
      ],
      "execution_count": 0,
      "outputs": []
    },
    {
      "cell_type": "markdown",
      "metadata": {
        "id": "t3sdZPhohfLz",
        "colab_type": "text"
      },
      "source": [
        "### 準備資料"
      ]
    },
    {
      "cell_type": "code",
      "metadata": {
        "id": "5XnahP1uhjJ0",
        "colab_type": "code",
        "colab": {}
      },
      "source": [
        "from tensorflow.keras.datasets import fashion_mnist"
      ],
      "execution_count": 0,
      "outputs": []
    },
    {
      "cell_type": "code",
      "metadata": {
        "id": "rj_qfgl2hm_2",
        "colab_type": "code",
        "colab": {
          "base_uri": "https://localhost:8080/",
          "height": 153
        },
        "outputId": "fdafdb95-457b-44af-838d-1229fd06322d"
      },
      "source": [
        "(x_train, y_train), (x_test, y_test) = fashion_mnist.load_data()"
      ],
      "execution_count": 3,
      "outputs": [
        {
          "output_type": "stream",
          "text": [
            "Downloading data from https://storage.googleapis.com/tensorflow/tf-keras-datasets/train-labels-idx1-ubyte.gz\n",
            "32768/29515 [=================================] - 0s 0us/step\n",
            "Downloading data from https://storage.googleapis.com/tensorflow/tf-keras-datasets/train-images-idx3-ubyte.gz\n",
            "26427392/26421880 [==============================] - 0s 0us/step\n",
            "Downloading data from https://storage.googleapis.com/tensorflow/tf-keras-datasets/t10k-labels-idx1-ubyte.gz\n",
            "8192/5148 [===============================================] - 0s 0us/step\n",
            "Downloading data from https://storage.googleapis.com/tensorflow/tf-keras-datasets/t10k-images-idx3-ubyte.gz\n",
            "4423680/4422102 [==============================] - 0s 0us/step\n"
          ],
          "name": "stdout"
        }
      ]
    },
    {
      "cell_type": "code",
      "metadata": {
        "id": "c2eEev9YhpSt",
        "colab_type": "code",
        "colab": {}
      },
      "source": [
        "class_names = ['T-shirt/top', 'Trouser', 'Pullover', 'Dress', 'Coat',\n",
        "               'Sandal', 'Shirt', 'Sneaker', 'Bag', 'Ankle boot']"
      ],
      "execution_count": 0,
      "outputs": []
    },
    {
      "cell_type": "code",
      "metadata": {
        "id": "8KTUXmBohs6g",
        "colab_type": "code",
        "colab": {
          "base_uri": "https://localhost:8080/",
          "height": 34
        },
        "outputId": "5358ed2c-4b75-478f-9e9c-657290299345"
      },
      "source": [
        "x_train.shape"
      ],
      "execution_count": 5,
      "outputs": [
        {
          "output_type": "execute_result",
          "data": {
            "text/plain": [
              "(60000, 28, 28)"
            ]
          },
          "metadata": {
            "tags": []
          },
          "execution_count": 5
        }
      ]
    },
    {
      "cell_type": "code",
      "metadata": {
        "id": "aKrOmrtthuz9",
        "colab_type": "code",
        "colab": {
          "base_uri": "https://localhost:8080/",
          "height": 34
        },
        "outputId": "4edc96e4-f18e-4e59-e620-00e7295fe78c"
      },
      "source": [
        "len(x_train)"
      ],
      "execution_count": 6,
      "outputs": [
        {
          "output_type": "execute_result",
          "data": {
            "text/plain": [
              "60000"
            ]
          },
          "metadata": {
            "tags": []
          },
          "execution_count": 6
        }
      ]
    },
    {
      "cell_type": "code",
      "metadata": {
        "id": "X1aPow5chwbl",
        "colab_type": "code",
        "colab": {
          "base_uri": "https://localhost:8080/",
          "height": 34
        },
        "outputId": "84e56476-1dd7-4df3-a1e5-7f0c2d8c63ad"
      },
      "source": [
        "len(y_train)\n"
      ],
      "execution_count": 7,
      "outputs": [
        {
          "output_type": "execute_result",
          "data": {
            "text/plain": [
              "60000"
            ]
          },
          "metadata": {
            "tags": []
          },
          "execution_count": 7
        }
      ]
    },
    {
      "cell_type": "markdown",
      "metadata": {
        "id": "7ridBiERh6Rc",
        "colab_type": "text"
      },
      "source": [
        "### 轉化資料格式 (28, 28, 1)"
      ]
    },
    {
      "cell_type": "code",
      "metadata": {
        "id": "n6AEf9VwhyB0",
        "colab_type": "code",
        "colab": {
          "base_uri": "https://localhost:8080/",
          "height": 34
        },
        "outputId": "d66ffd6a-68bd-403a-8b31-faba784ba14d"
      },
      "source": [
        "np.max(x_train)"
      ],
      "execution_count": 8,
      "outputs": [
        {
          "output_type": "execute_result",
          "data": {
            "text/plain": [
              "255"
            ]
          },
          "metadata": {
            "tags": []
          },
          "execution_count": 8
        }
      ]
    },
    {
      "cell_type": "code",
      "metadata": {
        "id": "p0Yi_dMiiBZy",
        "colab_type": "code",
        "colab": {}
      },
      "source": [
        "x_train = x_train.reshape(60000,28,28,1) / 255"
      ],
      "execution_count": 0,
      "outputs": []
    },
    {
      "cell_type": "code",
      "metadata": {
        "id": "FxhUANl7iFAg",
        "colab_type": "code",
        "colab": {}
      },
      "source": [
        "x_test = x_test.reshape(10000,28,28,1) / 255"
      ],
      "execution_count": 0,
      "outputs": []
    },
    {
      "cell_type": "code",
      "metadata": {
        "id": "iogD5HVciGts",
        "colab_type": "code",
        "colab": {}
      },
      "source": [
        "from tensorflow.keras.utils import to_categorical"
      ],
      "execution_count": 0,
      "outputs": []
    },
    {
      "cell_type": "code",
      "metadata": {
        "id": "7gOqi_zZiI3D",
        "colab_type": "code",
        "colab": {}
      },
      "source": [
        "y_train = to_categorical(y_train, 10)"
      ],
      "execution_count": 0,
      "outputs": []
    },
    {
      "cell_type": "code",
      "metadata": {
        "id": "WKIf6yYdiK_m",
        "colab_type": "code",
        "colab": {}
      },
      "source": [
        "y_test = to_categorical(y_test, 10)"
      ],
      "execution_count": 0,
      "outputs": []
    },
    {
      "cell_type": "markdown",
      "metadata": {
        "id": "DQrG5FeSiO63",
        "colab_type": "text"
      },
      "source": [
        "### 新增函式"
      ]
    },
    {
      "cell_type": "code",
      "metadata": {
        "id": "MV_g02JXiMad",
        "colab_type": "code",
        "colab": {}
      },
      "source": [
        "from tensorflow.keras.models import Sequential\n",
        "from tensorflow.keras.layers import Conv2D, MaxPooling2D\n",
        "from tensorflow.keras.layers import Dense, Flatten\n",
        "from tensorflow.keras.optimizers import SGD"
      ],
      "execution_count": 0,
      "outputs": []
    },
    {
      "cell_type": "markdown",
      "metadata": {
        "id": "lcr6UsFqiYvY",
        "colab_type": "text"
      },
      "source": [
        "### 建造CNN"
      ]
    },
    {
      "cell_type": "code",
      "metadata": {
        "id": "emEJ_b-jiWYT",
        "colab_type": "code",
        "colab": {}
      },
      "source": [
        "model = Sequential()"
      ],
      "execution_count": 0,
      "outputs": []
    },
    {
      "cell_type": "code",
      "metadata": {
        "id": "w1RcBk4yidag",
        "colab_type": "code",
        "colab": {}
      },
      "source": [
        "model.add(Conv2D(8, (3,3), padding='same',\n",
        "                input_shape=(28,28,1),\n",
        "                activation='relu'))\n",
        "model.add(MaxPooling2D(pool_size=(2,2)))\n",
        "model.add(Conv2D(16, (3,3), padding='same',\n",
        "                activation='relu'))\n",
        "model.add(MaxPooling2D(pool_size=(2,2)))\n",
        "model.add(Conv2D(32, (3,3), padding='same',\n",
        "                activation='relu'))\n",
        "model.add(MaxPooling2D(pool_size=(2,2)))\n",
        "model.add(Flatten())\n",
        "model.add(Dense(35, activation='relu'))\n",
        "model.add(Dense(10, activation='softmax'))"
      ],
      "execution_count": 0,
      "outputs": []
    },
    {
      "cell_type": "code",
      "metadata": {
        "id": "SydiGC_MlhI7",
        "colab_type": "code",
        "colab": {
          "base_uri": "https://localhost:8080/",
          "height": 459
        },
        "outputId": "906f0dc7-8a93-4238-a6cc-c340d52c9f8e"
      },
      "source": [
        "model.summary()"
      ],
      "execution_count": 17,
      "outputs": [
        {
          "output_type": "stream",
          "text": [
            "Model: \"sequential\"\n",
            "_________________________________________________________________\n",
            "Layer (type)                 Output Shape              Param #   \n",
            "=================================================================\n",
            "conv2d (Conv2D)              (None, 28, 28, 8)         80        \n",
            "_________________________________________________________________\n",
            "max_pooling2d (MaxPooling2D) (None, 14, 14, 8)         0         \n",
            "_________________________________________________________________\n",
            "conv2d_1 (Conv2D)            (None, 14, 14, 16)        1168      \n",
            "_________________________________________________________________\n",
            "max_pooling2d_1 (MaxPooling2 (None, 7, 7, 16)          0         \n",
            "_________________________________________________________________\n",
            "conv2d_2 (Conv2D)            (None, 7, 7, 32)          4640      \n",
            "_________________________________________________________________\n",
            "max_pooling2d_2 (MaxPooling2 (None, 3, 3, 32)          0         \n",
            "_________________________________________________________________\n",
            "flatten (Flatten)            (None, 288)               0         \n",
            "_________________________________________________________________\n",
            "dense (Dense)                (None, 35)                10115     \n",
            "_________________________________________________________________\n",
            "dense_1 (Dense)              (None, 10)                360       \n",
            "=================================================================\n",
            "Total params: 16,363\n",
            "Trainable params: 16,363\n",
            "Non-trainable params: 0\n",
            "_________________________________________________________________\n"
          ],
          "name": "stdout"
        }
      ]
    },
    {
      "cell_type": "markdown",
      "metadata": {
        "id": "crCeFW3OlogK",
        "colab_type": "text"
      },
      "source": [
        "### 設定learning_Rate為0.08,batch_size為150,epochs為40"
      ]
    },
    {
      "cell_type": "code",
      "metadata": {
        "id": "rfp5Y_Ikliyy",
        "colab_type": "code",
        "colab": {}
      },
      "source": [
        "model.compile(loss=\"mse\",optimizer=SGD(lr=0.08),\n",
        "             metrics=[\"accuracy\"])"
      ],
      "execution_count": 0,
      "outputs": []
    },
    {
      "cell_type": "code",
      "metadata": {
        "id": "fiQAliMfl3IS",
        "colab_type": "code",
        "colab": {
          "base_uri": "https://localhost:8080/",
          "height": 1000
        },
        "outputId": "2a928e98-ebbe-4217-8237-9f573375325d"
      },
      "source": [
        "model.fit(x_train,y_train,batch_size=150,epochs=40)"
      ],
      "execution_count": 19,
      "outputs": [
        {
          "output_type": "stream",
          "text": [
            "Epoch 1/40\n",
            "400/400 [==============================] - 26s 64ms/step - loss: 0.0899 - accuracy: 0.1343\n",
            "Epoch 2/40\n",
            "400/400 [==============================] - 26s 64ms/step - loss: 0.0896 - accuracy: 0.1895\n",
            "Epoch 3/40\n",
            "400/400 [==============================] - 26s 65ms/step - loss: 0.0893 - accuracy: 0.2206\n",
            "Epoch 4/40\n",
            "400/400 [==============================] - 26s 64ms/step - loss: 0.0888 - accuracy: 0.2820\n",
            "Epoch 5/40\n",
            "400/400 [==============================] - 26s 64ms/step - loss: 0.0877 - accuracy: 0.2975\n",
            "Epoch 6/40\n",
            "400/400 [==============================] - 26s 64ms/step - loss: 0.0837 - accuracy: 0.3582\n",
            "Epoch 7/40\n",
            "400/400 [==============================] - 26s 64ms/step - loss: 0.0611 - accuracy: 0.5959\n",
            "Epoch 8/40\n",
            "400/400 [==============================] - 26s 64ms/step - loss: 0.0444 - accuracy: 0.6959\n",
            "Epoch 9/40\n",
            "400/400 [==============================] - 26s 64ms/step - loss: 0.0382 - accuracy: 0.7284\n",
            "Epoch 10/40\n",
            "400/400 [==============================] - 26s 64ms/step - loss: 0.0355 - accuracy: 0.7483\n",
            "Epoch 11/40\n",
            "400/400 [==============================] - 26s 64ms/step - loss: 0.0336 - accuracy: 0.7617\n",
            "Epoch 12/40\n",
            "400/400 [==============================] - 26s 64ms/step - loss: 0.0320 - accuracy: 0.7747\n",
            "Epoch 13/40\n",
            "400/400 [==============================] - 26s 64ms/step - loss: 0.0308 - accuracy: 0.7825\n",
            "Epoch 14/40\n",
            "400/400 [==============================] - 26s 64ms/step - loss: 0.0297 - accuracy: 0.7908\n",
            "Epoch 15/40\n",
            "400/400 [==============================] - 26s 64ms/step - loss: 0.0285 - accuracy: 0.7994\n",
            "Epoch 16/40\n",
            "400/400 [==============================] - 25s 64ms/step - loss: 0.0276 - accuracy: 0.8069\n",
            "Epoch 17/40\n",
            "400/400 [==============================] - 25s 64ms/step - loss: 0.0271 - accuracy: 0.8098\n",
            "Epoch 18/40\n",
            "400/400 [==============================] - 25s 64ms/step - loss: 0.0263 - accuracy: 0.8169\n",
            "Epoch 19/40\n",
            "400/400 [==============================] - 26s 64ms/step - loss: 0.0258 - accuracy: 0.8208\n",
            "Epoch 20/40\n",
            "400/400 [==============================] - 26s 64ms/step - loss: 0.0252 - accuracy: 0.8250\n",
            "Epoch 21/40\n",
            "400/400 [==============================] - 25s 64ms/step - loss: 0.0247 - accuracy: 0.8286\n",
            "Epoch 22/40\n",
            "400/400 [==============================] - 26s 64ms/step - loss: 0.0243 - accuracy: 0.8326\n",
            "Epoch 23/40\n",
            "400/400 [==============================] - 26s 64ms/step - loss: 0.0239 - accuracy: 0.8338\n",
            "Epoch 24/40\n",
            "400/400 [==============================] - 26s 64ms/step - loss: 0.0234 - accuracy: 0.8381\n",
            "Epoch 25/40\n",
            "400/400 [==============================] - 26s 65ms/step - loss: 0.0231 - accuracy: 0.8396\n",
            "Epoch 26/40\n",
            "400/400 [==============================] - 26s 65ms/step - loss: 0.0228 - accuracy: 0.8417\n",
            "Epoch 27/40\n",
            "400/400 [==============================] - 26s 65ms/step - loss: 0.0225 - accuracy: 0.8450\n",
            "Epoch 28/40\n",
            "400/400 [==============================] - 26s 65ms/step - loss: 0.0223 - accuracy: 0.8458\n",
            "Epoch 29/40\n",
            "400/400 [==============================] - 26s 64ms/step - loss: 0.0220 - accuracy: 0.8480\n",
            "Epoch 30/40\n",
            "400/400 [==============================] - 26s 64ms/step - loss: 0.0217 - accuracy: 0.8504\n",
            "Epoch 31/40\n",
            "400/400 [==============================] - 26s 66ms/step - loss: 0.0214 - accuracy: 0.8530\n",
            "Epoch 32/40\n",
            "400/400 [==============================] - 26s 65ms/step - loss: 0.0212 - accuracy: 0.8541\n",
            "Epoch 33/40\n",
            "400/400 [==============================] - 26s 65ms/step - loss: 0.0209 - accuracy: 0.8560\n",
            "Epoch 34/40\n",
            "400/400 [==============================] - 26s 65ms/step - loss: 0.0207 - accuracy: 0.8578\n",
            "Epoch 35/40\n",
            "400/400 [==============================] - 26s 65ms/step - loss: 0.0205 - accuracy: 0.8568\n",
            "Epoch 36/40\n",
            "400/400 [==============================] - 26s 64ms/step - loss: 0.0203 - accuracy: 0.8605\n",
            "Epoch 37/40\n",
            "400/400 [==============================] - 26s 64ms/step - loss: 0.0201 - accuracy: 0.8618\n",
            "Epoch 38/40\n",
            "400/400 [==============================] - 26s 64ms/step - loss: 0.0199 - accuracy: 0.8631\n",
            "Epoch 39/40\n",
            "400/400 [==============================] - 26s 65ms/step - loss: 0.0198 - accuracy: 0.8639\n",
            "Epoch 40/40\n",
            "400/400 [==============================] - 26s 65ms/step - loss: 0.0197 - accuracy: 0.8652\n"
          ],
          "name": "stdout"
        },
        {
          "output_type": "execute_result",
          "data": {
            "text/plain": [
              "<tensorflow.python.keras.callbacks.History at 0x7fab99254cc0>"
            ]
          },
          "metadata": {
            "tags": []
          },
          "execution_count": 19
        }
      ]
    },
    {
      "cell_type": "markdown",
      "metadata": {
        "id": "ZNJGax4Hqiv_",
        "colab_type": "text"
      },
      "source": [
        "### 建立第二個CNN model"
      ]
    },
    {
      "cell_type": "code",
      "metadata": {
        "id": "nAIn-cOgqnXV",
        "colab_type": "code",
        "colab": {}
      },
      "source": [
        "model2= Sequential()"
      ],
      "execution_count": 0,
      "outputs": []
    },
    {
      "cell_type": "code",
      "metadata": {
        "id": "v3pxYZ1zqpcV",
        "colab_type": "code",
        "colab": {}
      },
      "source": [
        "model2.add(Conv2D(32,(3,3),padding='same',\n",
        "                input_shape=(28,28,1),\n",
        "                activation= 'relu'))\n",
        "model2.add(MaxPooling2D(pool_size=(2,2)))"
      ],
      "execution_count": 0,
      "outputs": []
    },
    {
      "cell_type": "code",
      "metadata": {
        "id": "dAZLPnM6qwnd",
        "colab_type": "code",
        "colab": {}
      },
      "source": [
        "model2.add(Conv2D(64,(3,3),padding='same',\n",
        "                activation= 'relu'))\n",
        "model2.add(MaxPooling2D(pool_size=(2,2)))"
      ],
      "execution_count": 0,
      "outputs": []
    },
    {
      "cell_type": "code",
      "metadata": {
        "id": "E9oHso7Oqx2Q",
        "colab_type": "code",
        "colab": {}
      },
      "source": [
        "model2.add(Conv2D(128,(3,3),padding='same',\n",
        "                activation= 'relu'))\n",
        "model2.add(MaxPooling2D(pool_size=(2,2)))"
      ],
      "execution_count": 0,
      "outputs": []
    },
    {
      "cell_type": "code",
      "metadata": {
        "id": "_Z9BxUTRqzlw",
        "colab_type": "code",
        "colab": {}
      },
      "source": [
        "model2.add(Flatten())\n",
        "model2.add(Dense(54,activation='relu'))\n",
        "model2.add(Dense(10,activation='softmax'))"
      ],
      "execution_count": 0,
      "outputs": []
    },
    {
      "cell_type": "code",
      "metadata": {
        "id": "qB2BiyuFq2xP",
        "colab_type": "code",
        "colab": {
          "base_uri": "https://localhost:8080/",
          "height": 459
        },
        "outputId": "f00e2ba6-24f9-4507-e4a1-372253f715eb"
      },
      "source": [
        "model2.summary()"
      ],
      "execution_count": 26,
      "outputs": [
        {
          "output_type": "stream",
          "text": [
            "Model: \"sequential_2\"\n",
            "_________________________________________________________________\n",
            "Layer (type)                 Output Shape              Param #   \n",
            "=================================================================\n",
            "conv2d_3 (Conv2D)            (None, 28, 28, 32)        320       \n",
            "_________________________________________________________________\n",
            "max_pooling2d_3 (MaxPooling2 (None, 14, 14, 32)        0         \n",
            "_________________________________________________________________\n",
            "conv2d_4 (Conv2D)            (None, 14, 14, 64)        18496     \n",
            "_________________________________________________________________\n",
            "max_pooling2d_4 (MaxPooling2 (None, 7, 7, 64)          0         \n",
            "_________________________________________________________________\n",
            "conv2d_5 (Conv2D)            (None, 7, 7, 128)         73856     \n",
            "_________________________________________________________________\n",
            "max_pooling2d_5 (MaxPooling2 (None, 3, 3, 128)         0         \n",
            "_________________________________________________________________\n",
            "flatten_1 (Flatten)          (None, 1152)              0         \n",
            "_________________________________________________________________\n",
            "dense_2 (Dense)              (None, 54)                62262     \n",
            "_________________________________________________________________\n",
            "dense_3 (Dense)              (None, 10)                550       \n",
            "=================================================================\n",
            "Total params: 155,484\n",
            "Trainable params: 155,484\n",
            "Non-trainable params: 0\n",
            "_________________________________________________________________\n"
          ],
          "name": "stdout"
        }
      ]
    },
    {
      "cell_type": "markdown",
      "metadata": {
        "id": "nr2zN6-2rGet",
        "colab_type": "text"
      },
      "source": [
        "### 令learning_Rate為0.087,batch_size為200,epochs為20\n"
      ]
    },
    {
      "cell_type": "code",
      "metadata": {
        "id": "0TAh5gTjrLdL",
        "colab_type": "code",
        "colab": {}
      },
      "source": [
        "model2.compile(loss=\"mse\",optimizer=SGD(lr=0.087),\n",
        "             metrics=[\"accuracy\"])"
      ],
      "execution_count": 0,
      "outputs": []
    },
    {
      "cell_type": "code",
      "metadata": {
        "id": "_vf6u-dprQuQ",
        "colab_type": "code",
        "colab": {
          "base_uri": "https://localhost:8080/",
          "height": 714
        },
        "outputId": "36e686f1-0a47-47a5-f49e-2b358b1e5672"
      },
      "source": [
        "model2.fit(x_train,y_train,batch_size=200,epochs=20)"
      ],
      "execution_count": 30,
      "outputs": [
        {
          "output_type": "stream",
          "text": [
            "Epoch 1/20\n",
            "300/300 [==============================] - 86s 287ms/step - loss: 0.0869 - accuracy: 0.4384\n",
            "Epoch 2/20\n",
            "300/300 [==============================] - 86s 286ms/step - loss: 0.0762 - accuracy: 0.4890\n",
            "Epoch 3/20\n",
            "300/300 [==============================] - 86s 286ms/step - loss: 0.0503 - accuracy: 0.6551\n",
            "Epoch 4/20\n",
            "300/300 [==============================] - 86s 286ms/step - loss: 0.0413 - accuracy: 0.7018\n",
            "Epoch 5/20\n",
            "300/300 [==============================] - 85s 285ms/step - loss: 0.0378 - accuracy: 0.7260\n",
            "Epoch 6/20\n",
            "300/300 [==============================] - 86s 285ms/step - loss: 0.0356 - accuracy: 0.7444\n",
            "Epoch 7/20\n",
            "300/300 [==============================] - 85s 285ms/step - loss: 0.0339 - accuracy: 0.7576\n",
            "Epoch 8/20\n",
            "300/300 [==============================] - 86s 286ms/step - loss: 0.0324 - accuracy: 0.7705\n",
            "Epoch 9/20\n",
            "300/300 [==============================] - 86s 285ms/step - loss: 0.0312 - accuracy: 0.7804\n",
            "Epoch 10/20\n",
            "300/300 [==============================] - 86s 285ms/step - loss: 0.0303 - accuracy: 0.7880\n",
            "Epoch 11/20\n",
            "300/300 [==============================] - 86s 286ms/step - loss: 0.0294 - accuracy: 0.7937\n",
            "Epoch 12/20\n",
            "300/300 [==============================] - 86s 285ms/step - loss: 0.0288 - accuracy: 0.7990\n",
            "Epoch 13/20\n",
            "300/300 [==============================] - 85s 285ms/step - loss: 0.0281 - accuracy: 0.8033\n",
            "Epoch 14/20\n",
            "300/300 [==============================] - 85s 285ms/step - loss: 0.0275 - accuracy: 0.8097\n",
            "Epoch 15/20\n",
            "300/300 [==============================] - 86s 286ms/step - loss: 0.0270 - accuracy: 0.8130\n",
            "Epoch 16/20\n",
            "300/300 [==============================] - 86s 285ms/step - loss: 0.0266 - accuracy: 0.8149\n",
            "Epoch 17/20\n",
            "300/300 [==============================] - 86s 286ms/step - loss: 0.0259 - accuracy: 0.8208\n",
            "Epoch 18/20\n",
            "300/300 [==============================] - 86s 286ms/step - loss: 0.0256 - accuracy: 0.8219\n",
            "Epoch 19/20\n",
            "300/300 [==============================] - 86s 286ms/step - loss: 0.0251 - accuracy: 0.8266\n",
            "Epoch 20/20\n",
            "300/300 [==============================] - 86s 285ms/step - loss: 0.0249 - accuracy: 0.8264\n"
          ],
          "name": "stdout"
        },
        {
          "output_type": "execute_result",
          "data": {
            "text/plain": [
              "<tensorflow.python.keras.callbacks.History at 0x7fab961951d0>"
            ]
          },
          "metadata": {
            "tags": []
          },
          "execution_count": 30
        }
      ]
    },
    {
      "cell_type": "markdown",
      "metadata": {
        "id": "d96lPtHdzJg9",
        "colab_type": "text"
      },
      "source": [
        "### 預期"
      ]
    },
    {
      "cell_type": "code",
      "metadata": {
        "id": "AIR2uVvLrVL3",
        "colab_type": "code",
        "colab": {
          "base_uri": "https://localhost:8080/",
          "height": 88
        },
        "outputId": "3e3caaab-bbf9-44e3-cd3b-a6c1d1749c9a"
      },
      "source": [
        "result = model2.predict_classes(x_test)"
      ],
      "execution_count": 31,
      "outputs": [
        {
          "output_type": "stream",
          "text": [
            "WARNING:tensorflow:From <ipython-input-31-69ae03c6f49a>:1: Sequential.predict_classes (from tensorflow.python.keras.engine.sequential) is deprecated and will be removed after 2021-01-01.\n",
            "Instructions for updating:\n",
            "Please use instead:* `np.argmax(model.predict(x), axis=-1)`,   if your model does multi-class classification   (e.g. if it uses a `softmax` last-layer activation).* `(model.predict(x) > 0.5).astype(\"int32\")`,   if your model does binary classification   (e.g. if it uses a `sigmoid` last-layer activation).\n"
          ],
          "name": "stdout"
        }
      ]
    },
    {
      "cell_type": "code",
      "metadata": {
        "id": "3M-Y9HV1zQA4",
        "colab_type": "code",
        "colab": {}
      },
      "source": [
        "def my_predict(n):\n",
        "    print('我的 CNN 預測是', result[n])\n",
        "    X = x_test[n].reshape(28,28)\n",
        "    plt.imshow(X)"
      ],
      "execution_count": 0,
      "outputs": []
    },
    {
      "cell_type": "code",
      "metadata": {
        "id": "GlGGLxUhzUxh",
        "colab_type": "code",
        "colab": {}
      },
      "source": [
        "from ipywidgets import interact_manual"
      ],
      "execution_count": 0,
      "outputs": []
    },
    {
      "cell_type": "code",
      "metadata": {
        "id": "w7QiwT3lzWW_",
        "colab_type": "code",
        "colab": {
          "base_uri": "https://localhost:8080/",
          "height": 363,
          "referenced_widgets": [
            "3772096ce26546cab7a737bdee5cd49e",
            "64a0669c09da46ce82cef757e38ead3c",
            "7e644e85d0a0432daaa7fba084cc2259",
            "f90c1b9eb7ed462ba44b9059ee2adb33",
            "5410179cfa584596b5cf5fb13d4fe020",
            "149c9c1156dd4719a9ffdcffcfc929bc",
            "1a0a5b13cb9b40ef8dd21fb2e2c3564f",
            "7ec206c9714b4103bdc882ff38d0359c",
            "fdaa78f1a6b34131b311d5d7028c06f8",
            "298066607ce64daba9fa398433610b82"
          ]
        },
        "outputId": "2be73ed7-6c31-4644-a679-785116ccb759"
      },
      "source": [
        "interact_manual(my_predict, n=(0, 9999))"
      ],
      "execution_count": 34,
      "outputs": [
        {
          "output_type": "display_data",
          "data": {
            "application/vnd.jupyter.widget-view+json": {
              "model_id": "3772096ce26546cab7a737bdee5cd49e",
              "version_minor": 0,
              "version_major": 2
            },
            "text/plain": [
              "interactive(children=(IntSlider(value=4999, description='n', max=9999), Button(description='Run Interact', sty…"
            ]
          },
          "metadata": {
            "tags": []
          }
        },
        {
          "output_type": "execute_result",
          "data": {
            "text/plain": [
              "<function __main__.my_predict>"
            ]
          },
          "metadata": {
            "tags": []
          },
          "execution_count": 34
        }
      ]
    },
    {
      "cell_type": "code",
      "metadata": {
        "id": "_4W0LI7wzYJx",
        "colab_type": "code",
        "colab": {
          "base_uri": "https://localhost:8080/",
          "height": 34
        },
        "outputId": "bdf1b65a-749f-48a4-aefd-bfab08c8c9c9"
      },
      "source": [
        "score = model2.evaluate(x_test, y_test)"
      ],
      "execution_count": 35,
      "outputs": [
        {
          "output_type": "stream",
          "text": [
            "313/313 [==============================] - 5s 15ms/step - loss: 0.0256 - accuracy: 0.8224\n"
          ],
          "name": "stdout"
        }
      ]
    },
    {
      "cell_type": "code",
      "metadata": {
        "id": "rt15HXGKzb8z",
        "colab_type": "code",
        "colab": {}
      },
      "source": [
        "loss, acc = score"
      ],
      "execution_count": 0,
      "outputs": []
    },
    {
      "cell_type": "code",
      "metadata": {
        "id": "OZqWI50jzfEF",
        "colab_type": "code",
        "colab": {
          "base_uri": "https://localhost:8080/",
          "height": 34
        },
        "outputId": "bcd94e9a-7d34-4959-a37a-5798d90390d3"
      },
      "source": [
        "print('測試資料的正確率為', acc)"
      ],
      "execution_count": 37,
      "outputs": [
        {
          "output_type": "stream",
          "text": [
            "測試資料的正確率為 0.8223999738693237\n"
          ],
          "name": "stdout"
        }
      ]
    },
    {
      "cell_type": "code",
      "metadata": {
        "id": "MJ2l2AxNzg5s",
        "colab_type": "code",
        "colab": {}
      },
      "source": [
        ""
      ],
      "execution_count": 0,
      "outputs": []
    }
  ]
}