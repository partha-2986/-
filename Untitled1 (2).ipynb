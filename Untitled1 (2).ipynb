{
 "cells": [
  {
   "cell_type": "code",
   "execution_count": 0,
   "metadata": {
    "colab": {},
    "colab_type": "code",
    "id": "NbWuuXFgDRum"
   },
   "outputs": [],
   "source": [
    "%matplotlib inline\n",
    "\n",
    "import numpy as np\n",
    "import matplotlib.pyplot as plt"
   ]
  },
  {
   "cell_type": "code",
   "execution_count": 0,
   "metadata": {
    "colab": {},
    "colab_type": "code",
    "id": "6iQvkLefDS3U"
   },
   "outputs": [],
   "source": [
    "import tensorflow as ts"
   ]
  },
  {
   "cell_type": "markdown",
   "metadata": {
    "colab_type": "text",
    "id": "XVys2TNORCmQ"
   },
   "source": [
    "# 讀入 MNSIT 數據集"
   ]
  },
  {
   "cell_type": "code",
   "execution_count": 0,
   "metadata": {
    "colab": {},
    "colab_type": "code",
    "id": "nwWpn6byME-K"
   },
   "outputs": [],
   "source": [
    "from tensorflow.keras.datasets import fashion_mnist"
   ]
  },
  {
   "cell_type": "code",
   "execution_count": 0,
   "metadata": {
    "colab": {},
    "colab_type": "code",
    "id": "QMP1VwKTMIhI"
   },
   "outputs": [],
   "source": [
    "(x_train, y_train), (x_test, y_test) = fashion_mnist.load_data()"
   ]
  },
  {
   "cell_type": "code",
   "execution_count": 0,
   "metadata": {
    "colab": {},
    "colab_type": "code",
    "id": "OheKseZAMJ1W"
   },
   "outputs": [],
   "source": [
    "class_names = ['T-shirt/top', 'Trouser', 'Pullover', 'Dress', 'Coat',\n",
    "               'Sandal', 'Shirt', 'Sneaker', 'Bag', 'Ankle boot']"
   ]
  },
  {
   "cell_type": "code",
   "execution_count": 6,
   "metadata": {
    "colab": {
     "base_uri": "https://localhost:8080/",
     "height": 282
    },
    "colab_type": "code",
    "id": "RYUquVB2MMbj",
    "outputId": "2c220b1e-def1-4400-b5c2-64d0f9f0cb78"
   },
   "outputs": [
    {
     "name": "stdout",
     "output_type": "stream",
     "text": [
      "這是 Trouser\n"
     ]
    },
    {
     "data": {
      "image/png": "[encoded data removed]",
      "text/plain": [
       "<Figure size 432x288 with 1 Axes>"
      ]
     },
     "metadata": {
      "tags": []
     },
     "output_type": "display_data"
    }
   ],
   "source": [
    "n = 6666\n",
    "print('這是', class_names[y_train[n]])\n",
    "plt.imshow(x_train[n], cmap='Greys');"
   ]
  },
  {
   "cell_type": "markdown",
   "metadata": {
    "colab_type": "text",
    "id": "kF3muD8xRZco"
   },
   "source": [
    "# 欣賞數據集內容"
   ]
  },
  {
   "cell_type": "code",
   "execution_count": 7,
   "metadata": {
    "colab": {
     "base_uri": "https://localhost:8080/",
     "height": 34
    },
    "colab_type": "code",
    "id": "zS-gudRURcrO",
    "outputId": "a09e75dc-611f-4abe-86bc-63ee7b4e049d"
   },
   "outputs": [
    {
     "data": {
      "text/plain": [
       "(60000, 10000)"
      ]
     },
     "execution_count": 7,
     "metadata": {
      "tags": []
     },
     "output_type": "execute_result"
    }
   ],
   "source": [
    "len(x_train),len(x_test)"
   ]
  },
  {
   "cell_type": "code",
   "execution_count": 8,
   "metadata": {
    "colab": {
     "base_uri": "https://localhost:8080/",
     "height": 34
    },
    "colab_type": "code",
    "id": "TpPsX9UJRd-W",
    "outputId": "e870239b-9ea0-4026-b97d-96d2541b508f"
   },
   "outputs": [
    {
     "data": {
      "text/plain": [
       "(60000, 28, 28)"
      ]
     },
     "execution_count": 8,
     "metadata": {
      "tags": []
     },
     "output_type": "execute_result"
    }
   ],
   "source": [
    "x_train.shape"
   ]
  },
  {
   "cell_type": "code",
   "execution_count": 9,
   "metadata": {
    "colab": {
     "base_uri": "https://localhost:8080/",
     "height": 34
    },
    "colab_type": "code",
    "id": "Enw-HVK-RfFp",
    "outputId": "f12c086d-ff09-48b3-c7b0-5896bdb36b88"
   },
   "outputs": [
    {
     "data": {
      "text/plain": [
       "784"
      ]
     },
     "execution_count": 9,
     "metadata": {
      "tags": []
     },
     "output_type": "execute_result"
    }
   ],
   "source": [
    "28*28"
   ]
  },
  {
   "cell_type": "markdown",
   "metadata": {
    "colab_type": "text",
    "id": "owZjFD1TRjjr"
   },
   "source": [
    "# 資料整理"
   ]
  },
  {
   "cell_type": "code",
   "execution_count": 0,
   "metadata": {
    "colab": {},
    "colab_type": "code",
    "id": "k-XMWGe3Rgo2"
   },
   "outputs": [],
   "source": [
    "x_train = x_train.reshape(60000,784)/255"
   ]
  },
  {
   "cell_type": "code",
   "execution_count": 0,
   "metadata": {
    "colab": {},
    "colab_type": "code",
    "id": "f_fbSIx5SiDY"
   },
   "outputs": [],
   "source": [
    "x_test = x_test.reshape(10000,784)/255"
   ]
  },
  {
   "cell_type": "code",
   "execution_count": 0,
   "metadata": {
    "colab": {},
    "colab_type": "code",
    "id": "C-KxlZESRl_6"
   },
   "outputs": [],
   "source": [
    "from tensorflow.keras.utils import to_categorical"
   ]
  },
  {
   "cell_type": "code",
   "execution_count": 0,
   "metadata": {
    "colab": {},
    "colab_type": "code",
    "id": "BooEedEpRp2w"
   },
   "outputs": [],
   "source": [
    "y_train =  to_categorical(y_train, 10)"
   ]
  },
  {
   "cell_type": "code",
   "execution_count": 0,
   "metadata": {
    "colab": {},
    "colab_type": "code",
    "id": "w3eUhXAzSdOu"
   },
   "outputs": [],
   "source": [
    "y_test = to_categorical(y_test, 10)"
   ]
  },
  {
   "cell_type": "markdown",
   "metadata": {
    "colab_type": "text",
    "id": "xzB3ESqsRs7t"
   },
   "source": [
    "# 打造神經網路"
   ]
  },
  {
   "cell_type": "code",
   "execution_count": 0,
   "metadata": {
    "colab": {},
    "colab_type": "code",
    "id": "RpU73jllRrG1"
   },
   "outputs": [],
   "source": [
    "from tensorflow.keras.models import Sequential\n",
    "from tensorflow.keras.layers import Dense \n",
    "from tensorflow.keras.optimizers import SGD "
   ]
  },
  {
   "cell_type": "code",
   "execution_count": 0,
   "metadata": {
    "colab": {},
    "colab_type": "code",
    "id": "t_1AML4kRwn3"
   },
   "outputs": [],
   "source": [
    "model = Sequential()\n",
    "model.add(Dense(87, input_dim=784, activation=\"relu\")) \n",
    "model.add(Dense(87, activation=\"relu\")) \n",
    "model.add(Dense(10, activation=\"softmax\")) \n",
    "model.compile(loss='mse' , optimizer=SGD(lr=0.08) , metrics=['accuracy'])"
   ]
  },
  {
   "cell_type": "code",
   "execution_count": 17,
   "metadata": {
    "colab": {
     "base_uri": "https://localhost:8080/",
     "height": 255
    },
    "colab_type": "code",
    "id": "Dc8Yy1huRzE4",
    "outputId": "60914eff-b14a-45dc-f7ea-d2f91778f732"
   },
   "outputs": [
    {
     "name": "stdout",
     "output_type": "stream",
     "text": [
      "Model: \"sequential\"\n",
      "_________________________________________________________________\n",
      "Layer (type)                 Output Shape              Param #   \n",
      "=================================================================\n",
      "dense (Dense)                (None, 87)                68295     \n",
      "_________________________________________________________________\n",
      "dense_1 (Dense)              (None, 87)                7656      \n",
      "_________________________________________________________________\n",
      "dense_2 (Dense)              (None, 10)                880       \n",
      "=================================================================\n",
      "Total params: 76,831\n",
      "Trainable params: 76,831\n",
      "Non-trainable params: 0\n",
      "_________________________________________________________________\n"
     ]
    }
   ],
   "source": [
    "model.summary()"
   ]
  },
  {
   "cell_type": "code",
   "execution_count": 18,
   "metadata": {
    "colab": {
     "base_uri": "https://localhost:8080/",
     "height": 544
    },
    "colab_type": "code",
    "id": "7F55lklLR0Y5",
    "outputId": "958da269-8c4e-4e9c-ba6d-eb7eeff84735"
   },
   "outputs": [
    {
     "name": "stdout",
     "output_type": "stream",
     "text": [
      "Epoch 1/15\n",
      "600/600 [==============================] - 2s 3ms/step - loss: 0.0749 - accuracy: 0.3918\n",
      "Epoch 2/15\n",
      "600/600 [==============================] - 2s 3ms/step - loss: 0.0483 - accuracy: 0.6664\n",
      "Epoch 3/15\n",
      "600/600 [==============================] - 2s 3ms/step - loss: 0.0395 - accuracy: 0.7159\n",
      "Epoch 4/15\n",
      "600/600 [==============================] - 2s 3ms/step - loss: 0.0352 - accuracy: 0.7715\n",
      "Epoch 5/15\n",
      "600/600 [==============================] - 2s 3ms/step - loss: 0.0319 - accuracy: 0.7975\n",
      "Epoch 6/15\n",
      "600/600 [==============================] - 2s 3ms/step - loss: 0.0295 - accuracy: 0.8105\n",
      "Epoch 7/15\n",
      "600/600 [==============================] - 2s 3ms/step - loss: 0.0279 - accuracy: 0.8184\n",
      "Epoch 8/15\n",
      "600/600 [==============================] - 2s 3ms/step - loss: 0.0267 - accuracy: 0.8236\n",
      "Epoch 9/15\n",
      "600/600 [==============================] - 2s 3ms/step - loss: 0.0258 - accuracy: 0.8284\n",
      "Epoch 10/15\n",
      "600/600 [==============================] - 2s 3ms/step - loss: 0.0251 - accuracy: 0.8317\n",
      "Epoch 11/15\n",
      "600/600 [==============================] - 2s 3ms/step - loss: 0.0245 - accuracy: 0.8363\n",
      "Epoch 12/15\n",
      "600/600 [==============================] - 2s 3ms/step - loss: 0.0240 - accuracy: 0.8379\n",
      "Epoch 13/15\n",
      "600/600 [==============================] - 2s 3ms/step - loss: 0.0236 - accuracy: 0.8410\n",
      "Epoch 14/15\n",
      "600/600 [==============================] - 2s 3ms/step - loss: 0.0233 - accuracy: 0.8432\n",
      "Epoch 15/15\n",
      "600/600 [==============================] - 2s 3ms/step - loss: 0.0229 - accuracy: 0.8460\n"
     ]
    },
    {
     "data": {
      "text/plain": [
       "<tensorflow.python.keras.callbacks.History at 0x7fc88fb3bcc0>"
      ]
     },
     "execution_count": 18,
     "metadata": {
      "tags": []
     },
     "output_type": "execute_result"
    }
   ],
   "source": [
    "model.fit(x_train, y_train, batch_size=100, epochs=15)"
   ]
  },
  {
   "cell_type": "markdown",
   "metadata": {
    "colab_type": "text",
    "id": "WUnrsaDJUYCB"
   },
   "source": [
    "# 嘗試提高準確率 , 將batch_size提高100 , epochs提高到50"
   ]
  },
  {
   "cell_type": "code",
   "execution_count": 19,
   "metadata": {
    "colab": {
     "base_uri": "https://localhost:8080/",
     "height": 1000
    },
    "colab_type": "code",
    "id": "3DljIUOeUsxn",
    "outputId": "99db34b7-7651-4280-f97f-8d24772e4b55"
   },
   "outputs": [
    {
     "name": "stdout",
     "output_type": "stream",
     "text": [
      "Epoch 1/50\n",
      "300/300 [==============================] - 1s 4ms/step - loss: 0.0225 - accuracy: 0.8484\n",
      "Epoch 2/50\n",
      "300/300 [==============================] - 1s 4ms/step - loss: 0.0224 - accuracy: 0.8488\n",
      "Epoch 3/50\n",
      "300/300 [==============================] - 1s 4ms/step - loss: 0.0223 - accuracy: 0.8506\n",
      "Epoch 4/50\n",
      "300/300 [==============================] - 1s 4ms/step - loss: 0.0221 - accuracy: 0.8519\n",
      "Epoch 5/50\n",
      "300/300 [==============================] - 1s 4ms/step - loss: 0.0220 - accuracy: 0.8518\n",
      "Epoch 6/50\n",
      "300/300 [==============================] - 1s 4ms/step - loss: 0.0219 - accuracy: 0.8524\n",
      "Epoch 7/50\n",
      "300/300 [==============================] - 1s 4ms/step - loss: 0.0218 - accuracy: 0.8527\n",
      "Epoch 8/50\n",
      "300/300 [==============================] - 1s 4ms/step - loss: 0.0216 - accuracy: 0.8544\n",
      "Epoch 9/50\n",
      "300/300 [==============================] - 1s 4ms/step - loss: 0.0216 - accuracy: 0.8544\n",
      "Epoch 10/50\n",
      "300/300 [==============================] - 1s 4ms/step - loss: 0.0215 - accuracy: 0.8551\n",
      "Epoch 11/50\n",
      "300/300 [==============================] - 1s 4ms/step - loss: 0.0213 - accuracy: 0.8566\n",
      "Epoch 12/50\n",
      "300/300 [==============================] - 1s 4ms/step - loss: 0.0212 - accuracy: 0.8568\n",
      "Epoch 13/50\n",
      "300/300 [==============================] - 1s 4ms/step - loss: 0.0211 - accuracy: 0.8584\n",
      "Epoch 14/50\n",
      "300/300 [==============================] - 1s 4ms/step - loss: 0.0210 - accuracy: 0.8583\n",
      "Epoch 15/50\n",
      "300/300 [==============================] - 1s 4ms/step - loss: 0.0209 - accuracy: 0.8591\n",
      "Epoch 16/50\n",
      "300/300 [==============================] - 1s 4ms/step - loss: 0.0209 - accuracy: 0.8597\n",
      "Epoch 17/50\n",
      "300/300 [==============================] - 1s 4ms/step - loss: 0.0208 - accuracy: 0.8599\n",
      "Epoch 18/50\n",
      "300/300 [==============================] - 1s 4ms/step - loss: 0.0207 - accuracy: 0.8612\n",
      "Epoch 19/50\n",
      "300/300 [==============================] - 1s 4ms/step - loss: 0.0206 - accuracy: 0.8620\n",
      "Epoch 20/50\n",
      "300/300 [==============================] - 1s 4ms/step - loss: 0.0205 - accuracy: 0.8622\n",
      "Epoch 21/50\n",
      "300/300 [==============================] - 1s 4ms/step - loss: 0.0205 - accuracy: 0.8630\n",
      "Epoch 22/50\n",
      "300/300 [==============================] - 1s 4ms/step - loss: 0.0204 - accuracy: 0.8635\n",
      "Epoch 23/50\n",
      "300/300 [==============================] - 1s 4ms/step - loss: 0.0203 - accuracy: 0.8637\n",
      "Epoch 24/50\n",
      "300/300 [==============================] - 1s 4ms/step - loss: 0.0202 - accuracy: 0.8643\n",
      "Epoch 25/50\n",
      "300/300 [==============================] - 1s 4ms/step - loss: 0.0201 - accuracy: 0.8645\n",
      "Epoch 26/50\n",
      "300/300 [==============================] - 1s 4ms/step - loss: 0.0201 - accuracy: 0.8650\n",
      "Epoch 27/50\n",
      "300/300 [==============================] - 1s 4ms/step - loss: 0.0200 - accuracy: 0.8656\n",
      "Epoch 28/50\n",
      "300/300 [==============================] - 1s 4ms/step - loss: 0.0199 - accuracy: 0.8660\n",
      "Epoch 29/50\n",
      "300/300 [==============================] - 1s 4ms/step - loss: 0.0199 - accuracy: 0.8663\n",
      "Epoch 30/50\n",
      "300/300 [==============================] - 1s 4ms/step - loss: 0.0198 - accuracy: 0.8670\n",
      "Epoch 31/50\n",
      "300/300 [==============================] - 1s 4ms/step - loss: 0.0197 - accuracy: 0.8674\n",
      "Epoch 32/50\n",
      "300/300 [==============================] - 1s 4ms/step - loss: 0.0197 - accuracy: 0.8678\n",
      "Epoch 33/50\n",
      "300/300 [==============================] - 1s 4ms/step - loss: 0.0196 - accuracy: 0.8690\n",
      "Epoch 34/50\n",
      "300/300 [==============================] - 1s 4ms/step - loss: 0.0195 - accuracy: 0.8680\n",
      "Epoch 35/50\n",
      "300/300 [==============================] - 1s 4ms/step - loss: 0.0195 - accuracy: 0.8698\n",
      "Epoch 36/50\n",
      "300/300 [==============================] - 1s 4ms/step - loss: 0.0194 - accuracy: 0.8702\n",
      "Epoch 37/50\n",
      "300/300 [==============================] - 1s 4ms/step - loss: 0.0194 - accuracy: 0.8700\n",
      "Epoch 38/50\n",
      "300/300 [==============================] - 1s 4ms/step - loss: 0.0193 - accuracy: 0.8711\n",
      "Epoch 39/50\n",
      "300/300 [==============================] - 1s 4ms/step - loss: 0.0192 - accuracy: 0.8712\n",
      "Epoch 40/50\n",
      "300/300 [==============================] - 1s 4ms/step - loss: 0.0192 - accuracy: 0.8714\n",
      "Epoch 41/50\n",
      "300/300 [==============================] - 1s 4ms/step - loss: 0.0191 - accuracy: 0.8716\n",
      "Epoch 42/50\n",
      "300/300 [==============================] - 1s 4ms/step - loss: 0.0191 - accuracy: 0.8727\n",
      "Epoch 43/50\n",
      "300/300 [==============================] - 1s 4ms/step - loss: 0.0190 - accuracy: 0.8728\n",
      "Epoch 44/50\n",
      "300/300 [==============================] - 1s 4ms/step - loss: 0.0190 - accuracy: 0.8734\n",
      "Epoch 45/50\n",
      "300/300 [==============================] - 1s 5ms/step - loss: 0.0189 - accuracy: 0.8740\n",
      "Epoch 46/50\n",
      "300/300 [==============================] - 1s 4ms/step - loss: 0.0189 - accuracy: 0.8738\n",
      "Epoch 47/50\n",
      "300/300 [==============================] - 1s 4ms/step - loss: 0.0188 - accuracy: 0.8744\n",
      "Epoch 48/50\n",
      "300/300 [==============================] - 1s 4ms/step - loss: 0.0188 - accuracy: 0.8748\n",
      "Epoch 49/50\n",
      "300/300 [==============================] - 1s 4ms/step - loss: 0.0187 - accuracy: 0.8756\n",
      "Epoch 50/50\n",
      "300/300 [==============================] - 1s 4ms/step - loss: 0.0187 - accuracy: 0.8750\n"
     ]
    },
    {
     "data": {
      "text/plain": [
       "<tensorflow.python.keras.callbacks.History at 0x7fc88cd06e10>"
      ]
     },
     "execution_count": 19,
     "metadata": {
      "tags": []
     },
     "output_type": "execute_result"
    }
   ],
   "source": [
    "model.fit(x_train, y_train, batch_size=200, epochs=50)"
   ]
  },
  {
   "cell_type": "markdown",
   "metadata": {
    "colab_type": "text",
    "id": "ogCFPtT_S4Wz"
   },
   "source": [
    "# 結果"
   ]
  },
  {
   "cell_type": "code",
   "execution_count": 20,
   "metadata": {
    "colab": {
     "base_uri": "https://localhost:8080/",
     "height": 88
    },
    "colab_type": "code",
    "id": "-dHLDX7QS5Mh",
    "outputId": "7ce53c31-26e6-4454-a840-d01dcbb62dda"
   },
   "outputs": [
    {
     "name": "stdout",
     "output_type": "stream",
     "text": [
      "WARNING:tensorflow:From <ipython-input-20-63af5bb2f9b6>:1: Sequential.predict_classes (from tensorflow.python.keras.engine.sequential) is deprecated and will be removed after 2021-01-01.\n",
      "Instructions for updating:\n",
      "Please use instead:* `np.argmax(model.predict(x), axis=-1)`,   if your model does multi-class classification   (e.g. if it uses a `softmax` last-layer activation).* `(model.predict(x) > 0.5).astype(\"int32\")`,   if your model does binary classification   (e.g. if it uses a `sigmoid` last-layer activation).\n"
     ]
    }
   ],
   "source": [
    "result = model.predict_classes(x_test)"
   ]
  },
  {
   "cell_type": "code",
   "execution_count": 21,
   "metadata": {
    "colab": {
     "base_uri": "https://localhost:8080/",
     "height": 299
    },
    "colab_type": "code",
    "id": "K6pidvVuS6n2",
    "outputId": "0e952103-de85-4f57-889b-4691275b0bf7"
   },
   "outputs": [
    {
     "name": "stdout",
     "output_type": "stream",
     "text": [
      "神經網路預測是: Sneaker\n"
     ]
    },
    {
     "data": {
      "text/plain": [
       "<matplotlib.image.AxesImage at 0x7fc88cc4d940>"
      ]
     },
     "execution_count": 21,
     "metadata": {
      "tags": []
     },
     "output_type": "execute_result"
    },
    {
     "data": {
      "image/png": "[encoded data removed]",
      "text/plain": [
       "<Figure size 432x288 with 1 Axes>"
      ]
     },
     "metadata": {
      "tags": []
     },
     "output_type": "display_data"
    }
   ],
   "source": [
    "n = 6666\n",
    "print('神經網路預測是:',class_names[result[n]])\n",
    "plt.imshow(x_test[n].reshape(28,28), cmap='Greys')"
   ]
  },
  {
   "cell_type": "markdown",
   "metadata": {
    "colab_type": "text",
    "id": "SjZ24HFOVSaj"
   },
   "source": [
    "### 再嘗試其他方法，將batch_size再提高一倍，epochs也再提高一倍，並更改learn rate為0.090"
   ]
  },
  {
   "cell_type": "code",
   "execution_count": 0,
   "metadata": {
    "colab": {},
    "colab_type": "code",
    "id": "iiprtuC_S-2O"
   },
   "outputs": [],
   "source": [
    "model2 = Sequential()\n",
    "model2.add(Dense(87, input_dim=784, activation=\"relu\")) \n",
    "model2.add(Dense(87, activation=\"relu\")) \n",
    "model2.add(Dense(10, activation=\"softmax\")) \n",
    "model2.compile(loss='mse' , optimizer=SGD(lr=0.090) , metrics=['accuracy']) "
   ]
  },
  {
   "cell_type": "code",
   "execution_count": 23,
   "metadata": {
    "colab": {
     "base_uri": "https://localhost:8080/",
     "height": 1000
    },
    "colab_type": "code",
    "id": "B1kZ9VUIWB1y",
    "outputId": "8e438f59-0433-4422-8699-a54bb183c783"
   },
   "outputs": [
    {
     "name": "stdout",
     "output_type": "stream",
     "text": [
      "Epoch 1/100\n",
      "150/150 [==============================] - 1s 6ms/step - loss: 0.0877 - accuracy: 0.2122\n",
      "Epoch 2/100\n",
      "150/150 [==============================] - 1s 6ms/step - loss: 0.0783 - accuracy: 0.4802\n",
      "Epoch 3/100\n",
      "150/150 [==============================] - 1s 6ms/step - loss: 0.0636 - accuracy: 0.6076\n",
      "Epoch 4/100\n",
      "150/150 [==============================] - 1s 6ms/step - loss: 0.0528 - accuracy: 0.6537\n",
      "Epoch 5/100\n",
      "150/150 [==============================] - 1s 6ms/step - loss: 0.0476 - accuracy: 0.6685\n",
      "Epoch 6/100\n",
      "150/150 [==============================] - 1s 6ms/step - loss: 0.0449 - accuracy: 0.6797\n",
      "Epoch 7/100\n",
      "150/150 [==============================] - 1s 6ms/step - loss: 0.0427 - accuracy: 0.6882\n",
      "Epoch 8/100\n",
      "150/150 [==============================] - 1s 6ms/step - loss: 0.0405 - accuracy: 0.7076\n",
      "Epoch 9/100\n",
      "150/150 [==============================] - 1s 6ms/step - loss: 0.0386 - accuracy: 0.7394\n",
      "Epoch 10/100\n",
      "150/150 [==============================] - 1s 6ms/step - loss: 0.0369 - accuracy: 0.7597\n",
      "Epoch 11/100\n",
      "150/150 [==============================] - 1s 6ms/step - loss: 0.0354 - accuracy: 0.7735\n",
      "Epoch 12/100\n",
      "150/150 [==============================] - 1s 6ms/step - loss: 0.0341 - accuracy: 0.7832\n",
      "Epoch 13/100\n",
      "150/150 [==============================] - 1s 6ms/step - loss: 0.0330 - accuracy: 0.7903\n",
      "Epoch 14/100\n",
      "150/150 [==============================] - 1s 6ms/step - loss: 0.0320 - accuracy: 0.7959\n",
      "Epoch 15/100\n",
      "150/150 [==============================] - 1s 6ms/step - loss: 0.0312 - accuracy: 0.8004\n",
      "Epoch 16/100\n",
      "150/150 [==============================] - 1s 6ms/step - loss: 0.0304 - accuracy: 0.8043\n",
      "Epoch 17/100\n",
      "150/150 [==============================] - 1s 6ms/step - loss: 0.0298 - accuracy: 0.8080\n",
      "Epoch 18/100\n",
      "150/150 [==============================] - 1s 6ms/step - loss: 0.0292 - accuracy: 0.8110\n",
      "Epoch 19/100\n",
      "150/150 [==============================] - 1s 6ms/step - loss: 0.0287 - accuracy: 0.8135\n",
      "Epoch 20/100\n",
      "150/150 [==============================] - 1s 6ms/step - loss: 0.0282 - accuracy: 0.8156\n",
      "Epoch 21/100\n",
      "150/150 [==============================] - 1s 6ms/step - loss: 0.0278 - accuracy: 0.8172\n",
      "Epoch 22/100\n",
      "150/150 [==============================] - 1s 6ms/step - loss: 0.0275 - accuracy: 0.8197\n",
      "Epoch 23/100\n",
      "150/150 [==============================] - 1s 6ms/step - loss: 0.0271 - accuracy: 0.8216\n",
      "Epoch 24/100\n",
      "150/150 [==============================] - 1s 6ms/step - loss: 0.0268 - accuracy: 0.8230\n",
      "Epoch 25/100\n",
      "150/150 [==============================] - 1s 6ms/step - loss: 0.0265 - accuracy: 0.8245\n",
      "Epoch 26/100\n",
      "150/150 [==============================] - 1s 6ms/step - loss: 0.0262 - accuracy: 0.8262\n",
      "Epoch 27/100\n",
      "150/150 [==============================] - 1s 6ms/step - loss: 0.0260 - accuracy: 0.8274\n",
      "Epoch 28/100\n",
      "150/150 [==============================] - 1s 6ms/step - loss: 0.0257 - accuracy: 0.8290\n",
      "Epoch 29/100\n",
      "150/150 [==============================] - 1s 6ms/step - loss: 0.0255 - accuracy: 0.8299\n",
      "Epoch 30/100\n",
      "150/150 [==============================] - 1s 6ms/step - loss: 0.0253 - accuracy: 0.8315\n",
      "Epoch 31/100\n",
      "150/150 [==============================] - 1s 6ms/step - loss: 0.0252 - accuracy: 0.8324\n",
      "Epoch 32/100\n",
      "150/150 [==============================] - 1s 6ms/step - loss: 0.0249 - accuracy: 0.8331\n",
      "Epoch 33/100\n",
      "150/150 [==============================] - 1s 6ms/step - loss: 0.0248 - accuracy: 0.8354\n",
      "Epoch 34/100\n",
      "150/150 [==============================] - 1s 6ms/step - loss: 0.0246 - accuracy: 0.8357\n",
      "Epoch 35/100\n",
      "150/150 [==============================] - 1s 6ms/step - loss: 0.0245 - accuracy: 0.8366\n",
      "Epoch 36/100\n",
      "150/150 [==============================] - 1s 6ms/step - loss: 0.0243 - accuracy: 0.8372\n",
      "Epoch 37/100\n",
      "150/150 [==============================] - 1s 6ms/step - loss: 0.0242 - accuracy: 0.8382\n",
      "Epoch 38/100\n",
      "150/150 [==============================] - 1s 6ms/step - loss: 0.0240 - accuracy: 0.8390\n",
      "Epoch 39/100\n",
      "150/150 [==============================] - 1s 6ms/step - loss: 0.0239 - accuracy: 0.8397\n",
      "Epoch 40/100\n",
      "150/150 [==============================] - 1s 6ms/step - loss: 0.0238 - accuracy: 0.8412\n",
      "Epoch 41/100\n",
      "150/150 [==============================] - 1s 6ms/step - loss: 0.0236 - accuracy: 0.8412\n",
      "Epoch 42/100\n",
      "150/150 [==============================] - 1s 6ms/step - loss: 0.0235 - accuracy: 0.8422\n",
      "Epoch 43/100\n",
      "150/150 [==============================] - 1s 6ms/step - loss: 0.0234 - accuracy: 0.8425\n",
      "Epoch 44/100\n",
      "150/150 [==============================] - 1s 6ms/step - loss: 0.0233 - accuracy: 0.8440\n",
      "Epoch 45/100\n",
      "150/150 [==============================] - 1s 6ms/step - loss: 0.0232 - accuracy: 0.8446\n",
      "Epoch 46/100\n",
      "150/150 [==============================] - 1s 6ms/step - loss: 0.0231 - accuracy: 0.8449\n",
      "Epoch 47/100\n",
      "150/150 [==============================] - 1s 6ms/step - loss: 0.0230 - accuracy: 0.8458\n",
      "Epoch 48/100\n",
      "150/150 [==============================] - 1s 6ms/step - loss: 0.0229 - accuracy: 0.8460\n",
      "Epoch 49/100\n",
      "150/150 [==============================] - 1s 6ms/step - loss: 0.0228 - accuracy: 0.8468\n",
      "Epoch 50/100\n",
      "150/150 [==============================] - 1s 6ms/step - loss: 0.0227 - accuracy: 0.8480\n",
      "Epoch 51/100\n",
      "150/150 [==============================] - 1s 6ms/step - loss: 0.0227 - accuracy: 0.8479\n",
      "Epoch 52/100\n",
      "150/150 [==============================] - 1s 6ms/step - loss: 0.0226 - accuracy: 0.8481\n",
      "Epoch 53/100\n",
      "150/150 [==============================] - 1s 6ms/step - loss: 0.0225 - accuracy: 0.8491\n",
      "Epoch 54/100\n",
      "150/150 [==============================] - 1s 6ms/step - loss: 0.0224 - accuracy: 0.8494\n",
      "Epoch 55/100\n",
      "150/150 [==============================] - 1s 6ms/step - loss: 0.0223 - accuracy: 0.8499\n",
      "Epoch 56/100\n",
      "150/150 [==============================] - 1s 6ms/step - loss: 0.0223 - accuracy: 0.8507\n",
      "Epoch 57/100\n",
      "150/150 [==============================] - 1s 6ms/step - loss: 0.0222 - accuracy: 0.8510\n",
      "Epoch 58/100\n",
      "150/150 [==============================] - 1s 6ms/step - loss: 0.0221 - accuracy: 0.8508\n",
      "Epoch 59/100\n",
      "150/150 [==============================] - 1s 6ms/step - loss: 0.0221 - accuracy: 0.8522\n",
      "Epoch 60/100\n",
      "150/150 [==============================] - 1s 6ms/step - loss: 0.0220 - accuracy: 0.8528\n",
      "Epoch 61/100\n",
      "150/150 [==============================] - 1s 6ms/step - loss: 0.0219 - accuracy: 0.8532\n",
      "Epoch 62/100\n",
      "150/150 [==============================] - 1s 6ms/step - loss: 0.0219 - accuracy: 0.8535\n",
      "Epoch 63/100\n",
      "150/150 [==============================] - 1s 6ms/step - loss: 0.0218 - accuracy: 0.8537\n",
      "Epoch 64/100\n",
      "150/150 [==============================] - 1s 6ms/step - loss: 0.0217 - accuracy: 0.8544\n",
      "Epoch 65/100\n",
      "150/150 [==============================] - 1s 6ms/step - loss: 0.0217 - accuracy: 0.8541\n",
      "Epoch 66/100\n",
      "150/150 [==============================] - 1s 6ms/step - loss: 0.0216 - accuracy: 0.8551\n",
      "Epoch 67/100\n",
      "150/150 [==============================] - 1s 6ms/step - loss: 0.0216 - accuracy: 0.8558\n",
      "Epoch 68/100\n",
      "150/150 [==============================] - 1s 6ms/step - loss: 0.0215 - accuracy: 0.8551\n",
      "Epoch 69/100\n",
      "150/150 [==============================] - 1s 6ms/step - loss: 0.0214 - accuracy: 0.8559\n",
      "Epoch 70/100\n",
      "150/150 [==============================] - 1s 6ms/step - loss: 0.0214 - accuracy: 0.8577\n",
      "Epoch 71/100\n",
      "150/150 [==============================] - 1s 6ms/step - loss: 0.0213 - accuracy: 0.8571\n",
      "Epoch 72/100\n",
      "150/150 [==============================] - 1s 6ms/step - loss: 0.0213 - accuracy: 0.8573\n",
      "Epoch 73/100\n",
      "150/150 [==============================] - 1s 6ms/step - loss: 0.0212 - accuracy: 0.8582\n",
      "Epoch 74/100\n",
      "150/150 [==============================] - 1s 6ms/step - loss: 0.0212 - accuracy: 0.8576\n",
      "Epoch 75/100\n",
      "150/150 [==============================] - 1s 6ms/step - loss: 0.0211 - accuracy: 0.8583\n",
      "Epoch 76/100\n",
      "150/150 [==============================] - 1s 6ms/step - loss: 0.0211 - accuracy: 0.8582\n",
      "Epoch 77/100\n",
      "150/150 [==============================] - 1s 6ms/step - loss: 0.0210 - accuracy: 0.8589\n",
      "Epoch 78/100\n",
      "150/150 [==============================] - 1s 6ms/step - loss: 0.0210 - accuracy: 0.8593\n",
      "Epoch 79/100\n",
      "150/150 [==============================] - 1s 6ms/step - loss: 0.0209 - accuracy: 0.8592\n",
      "Epoch 80/100\n",
      "150/150 [==============================] - 1s 6ms/step - loss: 0.0209 - accuracy: 0.8599\n",
      "Epoch 81/100\n",
      "150/150 [==============================] - 1s 6ms/step - loss: 0.0208 - accuracy: 0.8603\n",
      "Epoch 82/100\n",
      "150/150 [==============================] - 1s 6ms/step - loss: 0.0208 - accuracy: 0.8607\n",
      "Epoch 83/100\n",
      "150/150 [==============================] - 1s 6ms/step - loss: 0.0207 - accuracy: 0.8605\n",
      "Epoch 84/100\n",
      "150/150 [==============================] - 1s 6ms/step - loss: 0.0207 - accuracy: 0.8615\n",
      "Epoch 85/100\n",
      "150/150 [==============================] - 1s 6ms/step - loss: 0.0206 - accuracy: 0.8619\n",
      "Epoch 86/100\n",
      "150/150 [==============================] - 1s 6ms/step - loss: 0.0206 - accuracy: 0.8617\n",
      "Epoch 87/100\n",
      "150/150 [==============================] - 1s 6ms/step - loss: 0.0206 - accuracy: 0.8618\n",
      "Epoch 88/100\n",
      "150/150 [==============================] - 1s 6ms/step - loss: 0.0205 - accuracy: 0.8624\n",
      "Epoch 89/100\n",
      "150/150 [==============================] - 1s 6ms/step - loss: 0.0205 - accuracy: 0.8627\n",
      "Epoch 90/100\n",
      "150/150 [==============================] - 1s 6ms/step - loss: 0.0204 - accuracy: 0.8629\n",
      "Epoch 91/100\n",
      "150/150 [==============================] - 1s 6ms/step - loss: 0.0204 - accuracy: 0.8633\n",
      "Epoch 92/100\n",
      "150/150 [==============================] - 1s 6ms/step - loss: 0.0203 - accuracy: 0.8639\n",
      "Epoch 93/100\n",
      "150/150 [==============================] - 1s 6ms/step - loss: 0.0203 - accuracy: 0.8634\n",
      "Epoch 94/100\n",
      "150/150 [==============================] - 1s 6ms/step - loss: 0.0203 - accuracy: 0.8640\n",
      "Epoch 95/100\n",
      "150/150 [==============================] - 1s 6ms/step - loss: 0.0202 - accuracy: 0.8645\n",
      "Epoch 96/100\n",
      "150/150 [==============================] - 1s 6ms/step - loss: 0.0202 - accuracy: 0.8644\n",
      "Epoch 97/100\n",
      "150/150 [==============================] - 1s 6ms/step - loss: 0.0201 - accuracy: 0.8644\n",
      "Epoch 98/100\n",
      "150/150 [==============================] - 1s 6ms/step - loss: 0.0201 - accuracy: 0.8645\n",
      "Epoch 99/100\n",
      "150/150 [==============================] - 1s 6ms/step - loss: 0.0201 - accuracy: 0.8652\n",
      "Epoch 100/100\n",
      "150/150 [==============================] - 1s 6ms/step - loss: 0.0200 - accuracy: 0.8660\n"
     ]
    },
    {
     "data": {
      "text/plain": [
       "<tensorflow.python.keras.callbacks.History at 0x7fc88c3b4a58>"
      ]
     },
     "execution_count": 23,
     "metadata": {
      "tags": []
     },
     "output_type": "execute_result"
    }
   ],
   "source": [
    "model2.fit(x_train, y_train, batch_size=400, epochs=100)"
   ]
  },
  {
   "cell_type": "markdown",
   "metadata": {
    "colab_type": "text",
    "id": "Olv1MOuRWrf-"
   },
   "source": [
    "##### 好像差不多..."
   ]
  },
  {
   "cell_type": "code",
   "execution_count": 0,
   "metadata": {
    "colab": {},
    "colab_type": "code",
    "id": "IP1mn-1iXiO0"
   },
   "outputs": [],
   "source": [
    ""
   ]
  }
 ],
 "metadata": {
  "colab": {
   "name": "Untitled1.ipynb",
   "provenance": [],
   "toc_visible": true
  },
  "kernelspec": {
   "display_name": "Python 3",
   "name": "python3"
  }
 },
 "nbformat": 4,
 "nbformat_minor": 0
}
