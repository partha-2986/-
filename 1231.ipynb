{
 "cells": [
  {
   "cell_type": "code",
   "execution_count": 4,
   "metadata": {},
   "outputs": [],
   "source": [
    "%matplotlib inline\n",
    "import numpy as np\n",
    "import matplotlib.pyplot as plt\n",
    "import pandas as pd"
   ]
  },
  {
   "cell_type": "code",
   "execution_count": 5,
   "metadata": {},
   "outputs": [],
   "source": [
    "from ipywidgets import interact\n",
    "from ipywidgets import interact_manual"
   ]
  },
  {
   "cell_type": "code",
   "execution_count": 15,
   "metadata": {},
   "outputs": [
    {
     "name": "stdout",
     "output_type": "stream",
     "text": [
      "今天天氣如何(a為很熱,b為很冷):b\n",
      "b\n"
     ]
    },
    {
     "data": {
      "application/vnd.jupyter.widget-view+json": {
       "model_id": "f7e4f154f7fe495aab88f7fca150b22c",
       "version_major": 2,
       "version_minor": 0
      },
      "text/plain": [
       "interactive(children=(Text(value='隨機選擇今日主食、附餐飲品', description='p'), Button(description='Run Interact', style=B…"
      ]
     },
     "metadata": {},
     "output_type": "display_data"
    }
   ],
   "source": [
    "weather = input(\"今天天氣如何(a為很熱,b為很冷):\")\n",
    "print(weather)\n",
    "\n",
    "if weather == \"a\":\n",
    "    A=[\"漢堡\",\"義大利麵\",\"丹麥麵包\",\"三明治\"]\n",
    "    C=[\"紅茶拿鐵\",\"伯爵紅茶\",\"法式輕拿鐵\",\"義式咖啡\"]\n",
    "    def f(x):\n",
    "    \n",
    "        h=np.random.choice(A)\n",
    "        print(\"吃啥主食:{}\".format(h))\n",
    "    \n",
    "        k=np.random.choice(C)\n",
    "        print(\"喝啥飲料:{}\".format(k))\n",
    "    \n",
    "    interact_manual(f,x=\"隨機選擇今日主食、附餐飲品\")\n",
    "\n",
    "elif weather == \"b\":\n",
    "    B=[\"飯糰\",\"燒賣\",\"碗粿\",\"粽子\"]\n",
    "    D=[\"豆漿\",\"杏仁茶\",\"牛肉湯\",\"味噌湯\"]\n",
    "    def g(p):\n",
    "    \n",
    "        s=np.random.choice(B)\n",
    "        print(\"吃啥主食:{}\".format(s))\n",
    "    \n",
    "        t=np.random.choice(D)\n",
    "        print(\"喝啥飲料:{}\".format(t))\n",
    "    \n",
    "    interact_manual(g,p=\"隨機選擇今日主食、附餐飲品\")"
   ]
  },
  {
   "cell_type": "markdown",
   "metadata": {},
   "source": [
    "## 目標 ：每日早餐選擇"
   ]
  },
  {
   "cell_type": "markdown",
   "metadata": {},
   "source": [
    "### 目的：製作出一個可以根據天氣選擇早餐的小工具"
   ]
  },
  {
   "cell_type": "markdown",
   "metadata": {},
   "source": [
    "###  動機 ：相較於數據分析，我覺得此程式才算貼近生活，雖然數據分析重要，但貼近生活我會選擇一些便民的工具，像這個作品 每日早餐選擇。"
   ]
  },
  {
   "cell_type": "markdown",
   "metadata": {},
   "source": [
    "###  結論：像我這種有選擇障礙的人，能夠在短時間解決早上的煩惱，是個好工具。"
   ]
  },
  {
   "cell_type": "code",
   "execution_count": null,
   "metadata": {},
   "outputs": [],
   "source": []
  }
 ],
 "metadata": {
  "kernelspec": {
   "display_name": "Python 3",
   "language": "python",
   "name": "python3"
  },
  "language_info": {
   "codemirror_mode": {
    "name": "ipython",
    "version": 3
   },
   "file_extension": ".py",
   "mimetype": "text/x-python",
   "name": "python",
   "nbconvert_exporter": "python",
   "pygments_lexer": "ipython3",
   "version": "3.7.3"
  }
 },
 "nbformat": 4,
 "nbformat_minor": 2
}
