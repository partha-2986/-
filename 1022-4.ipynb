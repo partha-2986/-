{
 "cells": [
  {
   "cell_type": "code",
   "execution_count": 1,
   "metadata": {},
   "outputs": [
    {
     "name": "stdout",
     "output_type": "stream",
     "text": [
      "考了幾科？3\n",
      "請輸入成績60\n",
      "請輸入成績70\n",
      "請輸入成績60\n",
      "總共3科及格\n"
     ]
    }
   ],
   "source": [
    "grades=[]\n",
    "num=(int(input(\"考了幾科？\")))\n",
    "for i in range(num):\n",
    "    grades.append(int(input(\"請輸入成績\")))\n",
    "\n",
    "x=list(filter(lambda g:g>=60,grades))\n",
    "print(\"總共%d科及格\"%(len(x)))"
   ]
  },
  {
   "cell_type": "code",
   "execution_count": null,
   "metadata": {},
   "outputs": [],
   "source": []
  },
  {
   "cell_type": "code",
   "execution_count": null,
   "metadata": {},
   "outputs": [],
   "source": []
  }
 ],
 "metadata": {
  "kernelspec": {
   "display_name": "Python 3",
   "language": "python",
   "name": "python3"
  },
  "language_info": {
   "codemirror_mode": {
    "name": "ipython",
    "version": 3
   },
   "file_extension": ".py",
   "mimetype": "text/x-python",
   "name": "python",
   "nbconvert_exporter": "python",
   "pygments_lexer": "ipython3",
   "version": "3.7.3"
  }
 },
 "nbformat": 4,
 "nbformat_minor": 2
}
