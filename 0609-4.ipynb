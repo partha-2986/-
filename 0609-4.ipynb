{
 "cells": [
  {
   "cell_type": "markdown",
   "metadata": {},
   "source": [
    "預測期末分數"
   ]
  },
  {
   "cell_type": "code",
   "execution_count": 1,
   "metadata": {},
   "outputs": [],
   "source": [
    "import numpy as np\n",
    "import time"
   ]
  },
  {
   "cell_type": "code",
   "execution_count": 3,
   "metadata": {},
   "outputs": [
    {
     "name": "stdout",
     "output_type": "stream",
     "text": [
      "兩次平時考各占15%,期中期末考各占35%\n",
      "請輸入分數：\n",
      "請輸入第一次平時考成績：4\n",
      "請輸入第二次平時考成績：25\n",
      "請輸入期中考成績：40\n",
      "請輸入「預計」期末考成績：50\n",
      "你的成績是： 60.5 恭喜pass!\n"
     ]
    }
   ],
   "source": [
    "print('兩次平時考各占15%,期中期末考各占35%')\n",
    "time.sleep(1)\n",
    "print('請輸入分數：')\n",
    "g1 = float(input('請輸入第一次平時考成績：'))\n",
    "g2 = float(input('請輸入第二次平時考成績：'))\n",
    "g3 = float(input('請輸入期中考成績：'))\n",
    "g4 = float(input('請輸入「預計」期末考成績：'))\n",
    "if (g1+g2)+0.35*(g3+g4)>60:\n",
    "    print('你的成績是：',(g1+g2)+0.35*(g3+g4),'恭喜pass!')\n",
    "elif(g4>g3 or g3>g2 or g2>g1):\n",
    "    print('你的成績不慎理想但，你有努力...')\n",
    "    time.sleep(1)\n",
    "    print('所以調整成績為：',end='')\n",
    "    l = [g1,g2,g3,g4]\n",
    "    for i in range(4):\n",
    "        if l[i] < 0.6:\n",
    "            l[i] = 0.6\n",
    "        print(l[i], end=' ') \n",
    "    print('\\n學期成績為：',(l[0]+l[1])+0.35*(l[2]+l[3]),'恭喜pass!')\n",
    "    print('\\033[1;35m 只要努力，就會有回報！ \\033[0m!')\n",
    "else:\n",
    "    print('你的成績是：',(g1+g2)+0.35*(g3+g4),'下去！')"
   ]
  },
  {
   "cell_type": "code",
   "execution_count": null,
   "metadata": {},
   "outputs": [],
   "source": []
  }
 ],
 "metadata": {
  "kernelspec": {
   "display_name": "Python 3",
   "language": "python",
   "name": "python3"
  },
  "language_info": {
   "codemirror_mode": {
    "name": "ipython",
    "version": 3
   },
   "file_extension": ".py",
   "mimetype": "text/x-python",
   "name": "python",
   "nbconvert_exporter": "python",
   "pygments_lexer": "ipython3",
   "version": "3.7.3"
  }
 },
 "nbformat": 4,
 "nbformat_minor": 2
}
