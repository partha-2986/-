{
 "cells": [
  {
   "cell_type": "code",
   "execution_count": 2,
   "metadata": {},
   "outputs": [],
   "source": [
    "def change():\n",
    "    ans = (input(\"請輸入需求(1:℃轉℉,2:℉轉℃)：\"))\n",
    "    if ans == \"1\" :\n",
    "        c = float(input(\"請輸入℃：\"))\n",
    "        f = c  * 9 / 5  + 32\n",
    "        print(\"{}℃是{}℉\".format(c,f))\n",
    "    elif ans == \"2\" :\n",
    "        f = float(input(\"請輸℉：\"))\n",
    "        c = f  * 5 / 9  - 32\n",
    "        print(\"{}℉是{}℃\".format(f,c))\n",
    "    else :\n",
    "        print(\"請輸入正確數字\")\n"
   ]
  },
  {
   "cell_type": "code",
   "execution_count": null,
   "metadata": {},
   "outputs": [],
   "source": [
    "change()"
   ]
  },
  {
   "cell_type": "code",
   "execution_count": null,
   "metadata": {},
   "outputs": [],
   "source": []
  }
 ],
 "metadata": {
  "kernelspec": {
   "display_name": "Python 3",
   "language": "python",
   "name": "python3"
  },
  "language_info": {
   "codemirror_mode": {
    "name": "ipython",
    "version": 3
   },
   "file_extension": ".py",
   "mimetype": "text/x-python",
   "name": "python",
   "nbconvert_exporter": "python",
   "pygments_lexer": "ipython3",
   "version": "3.7.3"
  }
 },
 "nbformat": 4,
 "nbformat_minor": 2
}
