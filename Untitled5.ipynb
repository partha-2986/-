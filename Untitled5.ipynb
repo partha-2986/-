{
 "cells": [
  {
   "cell_type": "code",
   "execution_count": 3,
   "metadata": {},
   "outputs": [
    {
     "name": "stdout",
     "output_type": "stream",
     "text": [
      "請輸入你的成績:60\n",
      "B\n"
     ]
    }
   ],
   "source": [
    "g=input(\"請輸入你的成績:\")\n",
    "g=float(g)\n",
    "if 90<=g<=100:\n",
    "    print(\"A\")\n",
    "elif 60<=g<90:\n",
    "    print(\"B\")\n",
    "elif g>100:\n",
    "    print(\"請重輸入\")\n",
    "else:\n",
    "        print(\"C\")"
   ]
  },
  {
   "cell_type": "code",
   "execution_count": null,
   "metadata": {},
   "outputs": [],
   "source": []
  }
 ],
 "metadata": {
  "kernelspec": {
   "display_name": "Python 3",
   "language": "python",
   "name": "python3"
  },
  "language_info": {
   "codemirror_mode": {
    "name": "ipython",
    "version": 3
   },
   "file_extension": ".py",
   "mimetype": "text/x-python",
   "name": "python",
   "nbconvert_exporter": "python",
   "pygments_lexer": "ipython3",
   "version": "3.7.3"
  }
 },
 "nbformat": 4,
 "nbformat_minor": 2
}
