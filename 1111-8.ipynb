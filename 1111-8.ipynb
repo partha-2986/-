{
 "cells": [
  {
   "cell_type": "markdown",
   "metadata": {},
   "source": [
    "### 作業一"
   ]
  },
  {
   "cell_type": "code",
   "execution_count": 10,
   "metadata": {},
   "outputs": [
    {
     "name": "stdout",
     "output_type": "stream",
     "text": [
      "2019 is not leap year\n"
     ]
    }
   ],
   "source": [
    "year = 2019\n",
    "\n",
    "if (year % 4) == 0:\n",
    "   if (year % 100) == 0:\n",
    "       if (year % 400) == 0:\n",
    "           print(\"{0} is leap year\".format(year))\n",
    "       else:\n",
    "           print(\"{0} is not leap year\".format(year))\n",
    "   else:\n",
    "       print(\"{0} is leap year\".format(year))\n",
    "else:\n",
    "   print(\"{0} is not leap year\".format(year))"
   ]
  },
  {
   "cell_type": "markdown",
   "metadata": {},
   "source": [
    "### 作業二"
   ]
  },
  {
   "cell_type": "code",
   "execution_count": 6,
   "metadata": {},
   "outputs": [
    {
     "name": "stdout",
     "output_type": "stream",
     "text": [
      "Select operation.\n",
      "1.Add\n",
      "2.Subtract\n",
      "3.Multiply\n",
      "4.Divide\n",
      "Enter choice(1/2/3/4):1\n",
      "Enter first number: 2\n",
      "Enter second number: 3\n",
      "2 + 3 = 5\n"
     ]
    }
   ],
   "source": [
    "def add(x, y):\n",
    "   return x + y\n",
    "def subtract(x, y):\n",
    "   return x - y\n",
    "def multiply(x, y):\n",
    "   return x * y\n",
    "def divide(x, y):\n",
    "   return x / y\n",
    "print(\"Select operation.\")\n",
    "print(\"1.Add\")\n",
    "print(\"2.Subtract\")\n",
    "print(\"3.Multiply\")\n",
    "print(\"4.Divide\")\n",
    "\n",
    "choice = input(\"Enter choice(1/2/3/4):\")\n",
    "num1 = int(input(\"Enter first number: \"))\n",
    "num2 = int(input(\"Enter second number: \"))\n",
    "if choice == '1':\n",
    "   print(num1,\"+\",num2,\"=\", add(num1,num2))\n",
    "elif choice == '2':\n",
    "   print(num1,\"-\",num2,\"=\", subtract(num1,num2))\n",
    "elif choice == '3':\n",
    "   print(num1,\"*\",num2,\"=\", multiply(num1,num2))\n",
    "elif choice == '4':\n",
    "   print(num1,\"/\",num2,\"=\", divide(num1,num2))\n",
    "else:\n",
    "   print(\"Invalid input\")"
   ]
  },
  {
   "cell_type": "markdown",
   "metadata": {},
   "source": [
    "### 作業三"
   ]
  },
  {
   "cell_type": "code",
   "execution_count": 12,
   "metadata": {},
   "outputs": [],
   "source": [
    "def dec_to_bin(dec):\n",
    "    if(dec == 0): return 0\n",
    "    \n",
    "    out = ''\n",
    "    while(dec):\n",
    "        out = str(dec & 1) + out\n",
    "        dec >>= 1\n",
    "    \n",
    "    return out"
   ]
  },
  {
   "cell_type": "code",
   "execution_count": 13,
   "metadata": {},
   "outputs": [
    {
     "name": "stdout",
     "output_type": "stream",
     "text": [
      "Decimal: 0 -> Binary: 0\n",
      "Decimal: 1 -> Binary: 1\n",
      "Decimal: 2 -> Binary: 10\n",
      "Decimal: 3 -> Binary: 11\n",
      "Decimal: 4 -> Binary: 100\n",
      "Decimal: 5 -> Binary: 101\n",
      "Decimal: 6 -> Binary: 110\n",
      "Decimal: 7 -> Binary: 111\n",
      "Decimal: 8 -> Binary: 1000\n",
      "Decimal: 9 -> Binary: 1001\n"
     ]
    }
   ],
   "source": [
    "for i in range(10):\n",
    "    print(f\"Decimal: {i} -> Binary: {dec_to_bin(i)}\")"
   ]
  },
  {
   "cell_type": "markdown",
   "metadata": {},
   "source": [
    "### 作業四"
   ]
  },
  {
   "cell_type": "code",
   "execution_count": 14,
   "metadata": {},
   "outputs": [],
   "source": [
    "def bmi():\n",
    "    height=input('公分')\n",
    "    weight=input('公斤')\n",
    "    BMI=int(weight)/(int(height)/100)**2\n",
    "    print(\"BMI值為\"+str(BMI))\n",
    "    "
   ]
  },
  {
   "cell_type": "code",
   "execution_count": 15,
   "metadata": {},
   "outputs": [
    {
     "name": "stdout",
     "output_type": "stream",
     "text": [
      "公分172\n",
      "公斤65\n",
      "BMI值為21.971335857220122\n"
     ]
    }
   ],
   "source": [
    "bmi()"
   ]
  },
  {
   "cell_type": "markdown",
   "metadata": {},
   "source": [
    "### 作業五"
   ]
  },
  {
   "cell_type": "code",
   "execution_count": 17,
   "metadata": {},
   "outputs": [
    {
     "name": "stdout",
     "output_type": "stream",
     "text": [
      "九九乘法表\n",
      "\n",
      "1X1=1\t1X2=1\t1X3=1\t1X4=1\t1X5=1\t1X6=1\t1X7=1\t1X8=1\t1X9=1\t\n",
      "2X1=2\t2X2=2\t2X3=2\t2X4=2\t2X5=2\t2X6=2\t2X7=2\t2X8=2\t2X9=2\t\n",
      "3X1=3\t3X2=3\t3X3=3\t3X4=3\t3X5=3\t3X6=3\t3X7=3\t3X8=3\t3X9=3\t\n",
      "4X1=4\t4X2=4\t4X3=4\t4X4=4\t4X5=4\t4X6=4\t4X7=4\t4X8=4\t4X9=4\t\n",
      "5X1=5\t5X2=5\t5X3=5\t5X4=5\t5X5=5\t5X6=5\t5X7=5\t5X8=5\t5X9=5\t\n",
      "6X1=6\t6X2=6\t6X3=6\t6X4=6\t6X5=6\t6X6=6\t6X7=6\t6X8=6\t6X9=6\t\n",
      "7X1=7\t7X2=7\t7X3=7\t7X4=7\t7X5=7\t7X6=7\t7X7=7\t7X8=7\t7X9=7\t\n",
      "8X1=8\t8X2=8\t8X3=8\t8X4=8\t8X5=8\t8X6=8\t8X7=8\t8X8=8\t8X9=8\t\n",
      "9X1=9\t9X2=9\t9X3=9\t9X4=9\t9X5=9\t9X6=9\t9X7=9\t9X8=9\t9X9=9\t\n"
     ]
    }
   ],
   "source": [
    "print(\"九九乘法表\")\n",
    "print()        \n",
    "for x in range(1,10):             \n",
    "    for y in range(1,10):\n",
    "\n",
    "        table = x * y\n",
    "\n",
    "        print('%dX%d=%d'%(x,y,x),end=\"\"+\"\\t\")\n",
    "    print()  "
   ]
  },
  {
   "cell_type": "markdown",
   "metadata": {},
   "source": [
    "### 作業六\n",
    "\n"
   ]
  },
  {
   "cell_type": "code",
   "execution_count": 19,
   "metadata": {},
   "outputs": [
    {
     "name": "stdout",
     "output_type": "stream",
     "text": [
      "輸入數字:7\n",
      "輸入數字:6\n",
      "輸入數字:8\n",
      "[6, 7, 8]\n"
     ]
    }
   ],
   "source": [
    "a=[]\n",
    "for i in range(3):\n",
    "    x = int(input(\"輸入數字:\"))\n",
    "    a.append(x)\n",
    "\n",
    "a.sort()\n",
    "print(a)"
   ]
  },
  {
   "cell_type": "markdown",
   "metadata": {},
   "source": [
    "### 作業七"
   ]
  },
  {
   "cell_type": "code",
   "execution_count": 22,
   "metadata": {},
   "outputs": [
    {
     "name": "stdout",
     "output_type": "stream",
     "text": [
      "請輸入1-100中，你所猜的數字: 79\n",
      "答案比79小\n",
      "再猜一個數字: 55\n",
      "再小一點\n",
      "再猜一個數字: 40\n",
      "再小一點\n",
      "再猜一個數字: 20\n",
      "再小一點\n",
      "再猜一個數字: 8\n",
      "再大一點\n",
      "再猜一個數字: 10\n",
      "再大一點\n",
      "再猜一個數字: 15\n",
      "再小一點\n",
      "再猜一個數字: 12\n",
      "That's the correct answer! Awesome d(`･∀･)b\n"
     ]
    }
   ],
   "source": [
    "%matplotlib inline\n",
    "\n",
    "import numpy as np\n",
    "import pandas as pd\n",
    "import matplotlib.pyplot as plt\n",
    "\n",
    "x=np.random.randint(1,100)\n",
    "y=int(input(\"請輸入1-100中，你所猜的數字: \"))\n",
    "\n",
    "if (y<x):\n",
    "    print(\"答案比{}大\".format(y))\n",
    "elif (y>x):\n",
    "    print(\"答案比{}小\".format(y))\n",
    "else:\n",
    "    print(\"That's the correct answer! Awesome d(`･∀･)b\")\n",
    "        \n",
    "while y != x:\n",
    "    y=int(input(\"再猜一個數字: \"))\n",
    "    if (y<x):\n",
    "        print(\"再大一點\")\n",
    "    elif (y>x):\n",
    "        print(\"再小一點\")\n",
    "    else:\n",
    "        print(\"That's the correct answer! Awesome d(`･∀･)b\")\n",
    "        break"
   ]
  },
  {
   "cell_type": "markdown",
   "metadata": {},
   "source": [
    "### 作業八\n"
   ]
  },
  {
   "cell_type": "code",
   "execution_count": 23,
   "metadata": {},
   "outputs": [
    {
     "name": "stdout",
     "output_type": "stream",
     "text": [
      "小於20度：15.6 18.9，要注意保暖\n"
     ]
    }
   ],
   "source": [
    "temperatureF = [60, 78, 90, 82, 66]\n",
    "temperatureC = list(map(lambda f: round((f - 32) * 5/9, 1), temperatureF))\n",
    "print(f\"小於20度：{' '.join(map(str, filter(lambda x: x<20, temperatureC)))}，要注意保暖\")"
   ]
  },
  {
   "cell_type": "code",
   "execution_count": null,
   "metadata": {},
   "outputs": [],
   "source": []
  }
 ],
 "metadata": {
  "kernelspec": {
   "display_name": "Python 3",
   "language": "python",
   "name": "python3"
  },
  "language_info": {
   "codemirror_mode": {
    "name": "ipython",
    "version": 3
   },
   "file_extension": ".py",
   "mimetype": "text/x-python",
   "name": "python",
   "nbconvert_exporter": "python",
   "pygments_lexer": "ipython3",
   "version": "3.7.3"
  }
 },
 "nbformat": 4,
 "nbformat_minor": 2
}
